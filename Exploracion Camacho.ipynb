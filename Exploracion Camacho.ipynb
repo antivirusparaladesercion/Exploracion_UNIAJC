{
 "cells": [
  {
   "cell_type": "markdown",
   "metadata": {},
   "source": [
    "# Analisis Exploratorio - Datos UNIAJC\n",
    "\n",
    "Fuentes de datos analizadas\n",
    "\n",
    "* DatosI\n",
    "* DatosII\n",
    "* DatosIII"
   ]
  },
  {
   "cell_type": "markdown",
   "metadata": {},
   "source": [
    "## Preparación entorno"
   ]
  },
  {
   "cell_type": "code",
   "execution_count": 346,
   "metadata": {},
   "outputs": [],
   "source": [
    "#Importación librerias a implementar\n",
    "import pandas as pd"
   ]
  },
  {
   "cell_type": "code",
   "execution_count": 347,
   "metadata": {},
   "outputs": [],
   "source": [
    "#Class para dar forma a los print\n",
    "class color:\n",
    "   PURPLE = '\\033[95m'\n",
    "   CYAN = '\\033[96m'\n",
    "   DARKCYAN = '\\033[36m'\n",
    "   BLUE = '\\033[94m'\n",
    "   GREEN = '\\033[92m'\n",
    "   YELLOW = '\\033[93m'\n",
    "   RED = '\\033[91m'\n",
    "   BOLD = '\\033[1m'\n",
    "   UNDERLINE = '\\033[4m'\n",
    "   END = '\\033[0m'"
   ]
  },
  {
   "cell_type": "code",
   "execution_count": 421,
   "metadata": {},
   "outputs": [],
   "source": [
    "\"\"\" Función para calcular la edad\n",
    "calcular_edad(fecha de nacimiento):\n",
    "return edad\"\"\"\n",
    "\n",
    "def calcular_edad(fecha_nacimiento):\n",
    "    from datetime import date\n",
    "    hoy = date.today()\n",
    "    edad = int(hoy.year - fecha_nacimiento.year)\n",
    "    \n",
    "    return edad"
   ]
  },
  {
   "cell_type": "markdown",
   "metadata": {},
   "source": [
    "## Conexión fuentes de datos\n",
    "\n",
    "Iniciamos con la conexión a la base de datos de estudiantes de la Universiad Antonio Jose Camacho, que se encuentra en un único archivo de excel"
   ]
  },
  {
   "cell_type": "code",
   "execution_count": 349,
   "metadata": {},
   "outputs": [],
   "source": [
    "#Se establece el archivo xlsx a cargar, luego de haber sido unificado\n",
    "camacho = pd.ExcelFile('CamachoUnido_limpiov1.xlsx')"
   ]
  },
  {
   "cell_type": "code",
   "execution_count": 387,
   "metadata": {},
   "outputs": [],
   "source": [
    "#Se carga cada uno de las hojas del excel, las cuales representan semestres diferentes\n",
    "df_20191 = pd.read_excel(camacho,'DatosI_Sistemas')\n",
    "df_20192 = pd.read_excel(camacho,'DatosII_Sistemas')\n",
    "df_20201 = pd.read_excel(camacho,'DatosIII_Sistemas')"
   ]
  },
  {
   "cell_type": "markdown",
   "metadata": {},
   "source": [
    "### DatosI - 20191\n",
    "Exploramos el conjunto de datos de los estudiantes matriculados en el semestre 20191 en el programa de Ingeniería de Sistemas (no se incluye homologación)"
   ]
  },
  {
   "cell_type": "code",
   "execution_count": 388,
   "metadata": {},
   "outputs": [
    {
     "name": "stdout",
     "output_type": "stream",
     "text": [
      "<class 'pandas.core.frame.DataFrame'>\n",
      "RangeIndex: 2275 entries, 0 to 2274\n",
      "Data columns (total 42 columns):\n",
      " #   Column             Non-Null Count  Dtype         \n",
      "---  ------             --------------  -----         \n",
      " 0   ID                 2275 non-null   object        \n",
      " 1   GENERO             2275 non-null   object        \n",
      " 2   ESTADO_CIVIL       2275 non-null   object        \n",
      " 3   ESTRATO            1410 non-null   float64       \n",
      " 4   PAIS_NACIMIENTO    2245 non-null   object        \n",
      " 5   DPTO_NACIMIENTO    2245 non-null   object        \n",
      " 6   CIUDAD_NACIMIENTO  2245 non-null   object        \n",
      " 7   FECHA_NACIMIENTO   2275 non-null   datetime64[ns]\n",
      " 8   PAIS_RESIDENCIA    2245 non-null   object        \n",
      " 9   DPTO_RESIDENCIA    2245 non-null   object        \n",
      " 10  CIUDAD_GENERAL     2245 non-null   object        \n",
      " 11  DIRECCION          2245 non-null   object        \n",
      " 12  BARRIO             2245 non-null   object        \n",
      " 13  SNP                2215 non-null   object        \n",
      " 14  COLEGIO            2275 non-null   object        \n",
      " 15  COLEGIO2           1525 non-null   object        \n",
      " 16  COD_PROG           2275 non-null   int64         \n",
      " 17  PROGRAMA           2275 non-null   object        \n",
      " 18  MATERIA            2275 non-null   object        \n",
      " 19  COD_MATERIA        2275 non-null   object        \n",
      " 20  GRUPO              2275 non-null   object        \n",
      " 21  EVAC_ID            2275 non-null   int64         \n",
      " 22  EVALUACION         2275 non-null   object        \n",
      " 23  CALF_PARCIAL       2218 non-null   float64       \n",
      " 24  PROMEDIO           2275 non-null   float64       \n",
      " 25  FECHA_MATRICULA    2275 non-null   datetime64[ns]\n",
      " 26  ESTADO             2275 non-null   object        \n",
      " 27  PER_ADMISION       2275 non-null   object        \n",
      " 28  REAC_TIPO          2275 non-null   object        \n",
      " 29  GRUP_ID            2275 non-null   int64         \n",
      " 30  DOCENTE            2275 non-null   object        \n",
      " 31  LUNES              335 non-null    object        \n",
      " 32  MARTES             545 non-null    object        \n",
      " 33  MIERCOLES          530 non-null    object        \n",
      " 34  JUEVES             510 non-null    object        \n",
      " 35  VIERNES            485 non-null    object        \n",
      " 36  SABADO             60 non-null     object        \n",
      " 37  DOMINGO            0 non-null      float64       \n",
      " 38  FINAN ICETEX       90 non-null     object        \n",
      " 39  FINAN BANCARIA     360 non-null    object        \n",
      " 40  PAGO DIRECTO       1825 non-null   object        \n",
      " 41  FECHA DE PAGO      2275 non-null   datetime64[ns]\n",
      "dtypes: datetime64[ns](3), float64(4), int64(3), object(32)\n",
      "memory usage: 746.6+ KB\n"
     ]
    }
   ],
   "source": [
    "#Se conocen los tipos de dato de cada variable\n",
    "df_20191.info()"
   ]
  },
  {
   "cell_type": "code",
   "execution_count": 389,
   "metadata": {},
   "outputs": [
    {
     "name": "stdout",
     "output_type": "stream",
     "text": [
      "Valores faltantes en cada columna ID                      0\n",
      "GENERO                  0\n",
      "ESTADO_CIVIL            0\n",
      "ESTRATO               865\n",
      "PAIS_NACIMIENTO        30\n",
      "DPTO_NACIMIENTO        30\n",
      "CIUDAD_NACIMIENTO      30\n",
      "FECHA_NACIMIENTO        0\n",
      "PAIS_RESIDENCIA        30\n",
      "DPTO_RESIDENCIA        30\n",
      "CIUDAD_GENERAL         30\n",
      "DIRECCION              30\n",
      "BARRIO                 30\n",
      "SNP                    60\n",
      "COLEGIO                 0\n",
      "COLEGIO2              750\n",
      "COD_PROG                0\n",
      "PROGRAMA                0\n",
      "MATERIA                 0\n",
      "COD_MATERIA             0\n",
      "GRUPO                   0\n",
      "EVAC_ID                 0\n",
      "EVALUACION              0\n",
      "CALF_PARCIAL           57\n",
      "PROMEDIO                0\n",
      "FECHA_MATRICULA         0\n",
      "ESTADO                  0\n",
      "PER_ADMISION            0\n",
      "REAC_TIPO               0\n",
      "GRUP_ID                 0\n",
      "DOCENTE                 0\n",
      "LUNES                1940\n",
      "MARTES               1730\n",
      "MIERCOLES            1745\n",
      "JUEVES               1765\n",
      "VIERNES              1790\n",
      "SABADO               2215\n",
      "DOMINGO              2275\n",
      "FINAN ICETEX         2185\n",
      "FINAN BANCARIA       1915\n",
      "PAGO DIRECTO          450\n",
      "FECHA DE PAGO           0\n",
      "dtype: int64\n"
     ]
    }
   ],
   "source": [
    "#Se conocen valores faltantes por columna\n",
    "print('Valores faltantes en cada columna', df_20191.isnull().sum())"
   ]
  },
  {
   "cell_type": "code",
   "execution_count": 390,
   "metadata": {},
   "outputs": [
    {
     "name": "stdout",
     "output_type": "stream",
     "text": [
      "\u001b[1mCantidad de estudiantes en 20191: \u001b[0m 76\n"
     ]
    }
   ],
   "source": [
    "#Cantidad de estudiantes únicos\n",
    "id_df20191 = df_20191['ID']\n",
    "id_df20191 = id_df20191.drop_duplicates()\n",
    "print(color.BOLD +'Cantidad de estudiantes en 20191: '+ color.END,id_df20191.count())"
   ]
  },
  {
   "cell_type": "code",
   "execution_count": 391,
   "metadata": {},
   "outputs": [
    {
     "name": "stdout",
     "output_type": "stream",
     "text": [
      "\u001b[1mCantidad de estudiantes sin estrato definido: \u001b[0m 29\n",
      "\u001b[1mID estudiantes sin estrato definido: \n",
      "\u001b[0m 0       AJC-0010\n",
      "90      AJC-0052\n",
      "150     AJC-0096\n",
      "270     AJC-0129\n",
      "360     AJC-0161\n",
      "450     AJC-0233\n",
      "480     AJC-0255\n",
      "660     AJC-0438\n",
      "870     AJC-0558\n",
      "1080    AJC-0739\n",
      "1230    AJC-0902\n",
      "1260    AJC-0921\n",
      "1290    AJC-0934\n",
      "1440    AJC-0968\n",
      "1500    AJC-0989\n",
      "1530    AJC-0996\n",
      "1590    AJC-1051\n",
      "1620    AJC-1060\n",
      "1680    AJC-1100\n",
      "1710    AJC-1104\n",
      "1890    AJC-1202\n",
      "1950    AJC-1225\n",
      "2040    AJC-1239\n",
      "2070    AJC-1255\n",
      "2095    AJC-1258\n",
      "2125    AJC-1264\n",
      "2155    AJC-1280\n",
      "2215    AJC-1315\n",
      "2245    AJC-1322\n",
      "Name: ID, dtype: object\n"
     ]
    }
   ],
   "source": [
    "#cantidad de estudiantes sin estrato\n",
    "mask_estrato = df_20191.ESTRATO.isnull()\n",
    "id_df20191_sin_estrato = df_20191[mask_estrato]['ID']\n",
    "id_df20191_sin_estrato = id_df20191_sin_estrato.drop_duplicates()\n",
    "print(color.BOLD +'Cantidad de estudiantes sin estrato definido: '+ color.END,id_df20191_sin_estrato.count())\n",
    "print(color.BOLD +'ID estudiantes sin estrato definido: \\n'+ color.END,id_df20191_sin_estrato)"
   ]
  },
  {
   "cell_type": "code",
   "execution_count": 392,
   "metadata": {},
   "outputs": [
    {
     "name": "stdout",
     "output_type": "stream",
     "text": [
      "\u001b[1mID estudiantes sin lugar de nacimiento definido: \n",
      "\u001b[0m 1920    AJC-1220\n",
      "Name: ID, dtype: object\n",
      "\u001b[1mCantidad de estudiantes sin lugar de nacimiento: \u001b[0m 1\n"
     ]
    }
   ],
   "source": [
    "#cantidad de estudiantes sin país de nacimiento, departamento de nacimiento y municipio de nacimiento\n",
    "mask_lugar_nacimiento = df_20191.PAIS_NACIMIENTO.isnull()\n",
    "id_df20191_sin_lugar_nacimiento = df_20191[mask_lugar_nacimiento]['ID']\n",
    "id_df20191_sin_lugar_nacimiento = id_df20191_sin_lugar_nacimiento.drop_duplicates()\n",
    "print(color.BOLD +'ID estudiantes sin lugar de nacimiento definido: \\n'+ color.END,id_df20191_sin_lugar_nacimiento)\n",
    "print(color.BOLD +'Cantidad de estudiantes sin lugar de nacimiento: '+ color.END,id_df20191_sin_lugar_nacimiento.count())"
   ]
  },
  {
   "cell_type": "code",
   "execution_count": 393,
   "metadata": {},
   "outputs": [
    {
     "name": "stdout",
     "output_type": "stream",
     "text": [
      "\u001b[1mID estudiantes sin lugar de residencia definido: \n",
      "\u001b[0m 210    AJC-0123\n",
      "Name: ID, dtype: object\n",
      "\u001b[1mCantidad de estudiantes sin lugar de residencia: \u001b[0m 1\n"
     ]
    }
   ],
   "source": [
    "#cantidad de estudiantes sin país de nacimiento, departamento de nacimiento y municipio de nacimiento\n",
    "mask_lugar_residencia = df_20191.PAIS_RESIDENCIA.isnull()\n",
    "id_df20191_sin_lugar_residencia = df_20191[mask_lugar_residencia]['ID']\n",
    "id_df20191_sin_lugar_residencia = id_df20191_sin_lugar_residencia.drop_duplicates()\n",
    "print(color.BOLD +'ID estudiantes sin lugar de residencia definido: \\n'+ color.END,id_df20191_sin_lugar_residencia)\n",
    "print(color.BOLD +'Cantidad de estudiantes sin lugar de residencia: '+ color.END,id_df20191_sin_lugar_nacimiento.count())\n",
    "  "
   ]
  },
  {
   "cell_type": "code",
   "execution_count": 394,
   "metadata": {},
   "outputs": [],
   "source": [
    "#faltantes_20191 = {'Estrato': id_df20191_sin_estrato.values.tolist(),'Lugar Nacimiento': id_df20191_sin_lugar_nacimiento.values.tolist()}\n",
    "#print(faltantes_20191)"
   ]
  },
  {
   "cell_type": "markdown",
   "metadata": {},
   "source": [
    "### Tratamiento de valores faltantes"
   ]
  },
  {
   "cell_type": "code",
   "execution_count": 395,
   "metadata": {},
   "outputs": [],
   "source": [
    "#En el Dataset en las columnas COLEGIO y COLEGIO2 tienen distribuido el nombre del colegio donde los estudiantes cursaron su educación básica secundaria\n",
    "#Se rellenan los null de la columna Colegio por el valor en Colegio2\n",
    "colegio = df_20191.loc[:,['ID','COLEGIO','COLEGIO2']]\n",
    "for i in range(colegio.shape[0]):\n",
    "    if colegio.COLEGIO[i] == 'Sin Definir':\n",
    "        colegio.COLEGIO[i] = colegio.COLEGIO2[i]\n",
    "colegio = colegio.drop(columns = 'COLEGIO2').drop_duplicates()\n",
    "#colegio = colegio.drop_duplicates()"
   ]
  },
  {
   "cell_type": "code",
   "execution_count": 396,
   "metadata": {},
   "outputs": [],
   "source": [
    "colegio_dummies = colegio\n",
    "colegio_dummies['COLEGIO'] = pd.get_dummies(colegio.COLEGIO)"
   ]
  },
  {
   "cell_type": "code",
   "execution_count": 397,
   "metadata": {},
   "outputs": [
    {
     "data": {
      "text/html": [
       "<div>\n",
       "<style scoped>\n",
       "    .dataframe tbody tr th:only-of-type {\n",
       "        vertical-align: middle;\n",
       "    }\n",
       "\n",
       "    .dataframe tbody tr th {\n",
       "        vertical-align: top;\n",
       "    }\n",
       "\n",
       "    .dataframe thead th {\n",
       "        text-align: right;\n",
       "    }\n",
       "</style>\n",
       "<table border=\"1\" class=\"dataframe\">\n",
       "  <thead>\n",
       "    <tr style=\"text-align: right;\">\n",
       "      <th></th>\n",
       "      <th>COLEGIO</th>\n",
       "    </tr>\n",
       "  </thead>\n",
       "  <tbody>\n",
       "    <tr>\n",
       "      <th>count</th>\n",
       "      <td>76.000000</td>\n",
       "    </tr>\n",
       "    <tr>\n",
       "      <th>mean</th>\n",
       "      <td>0.013158</td>\n",
       "    </tr>\n",
       "    <tr>\n",
       "      <th>std</th>\n",
       "      <td>0.114708</td>\n",
       "    </tr>\n",
       "    <tr>\n",
       "      <th>min</th>\n",
       "      <td>0.000000</td>\n",
       "    </tr>\n",
       "    <tr>\n",
       "      <th>25%</th>\n",
       "      <td>0.000000</td>\n",
       "    </tr>\n",
       "    <tr>\n",
       "      <th>50%</th>\n",
       "      <td>0.000000</td>\n",
       "    </tr>\n",
       "    <tr>\n",
       "      <th>75%</th>\n",
       "      <td>0.000000</td>\n",
       "    </tr>\n",
       "    <tr>\n",
       "      <th>max</th>\n",
       "      <td>1.000000</td>\n",
       "    </tr>\n",
       "  </tbody>\n",
       "</table>\n",
       "</div>"
      ],
      "text/plain": [
       "         COLEGIO\n",
       "count  76.000000\n",
       "mean    0.013158\n",
       "std     0.114708\n",
       "min     0.000000\n",
       "25%     0.000000\n",
       "50%     0.000000\n",
       "75%     0.000000\n",
       "max     1.000000"
      ]
     },
     "execution_count": 397,
     "metadata": {},
     "output_type": "execute_result"
    }
   ],
   "source": [
    "colegio_dummies.describe()"
   ]
  },
  {
   "cell_type": "code",
   "execution_count": 319,
   "metadata": {},
   "outputs": [
    {
     "ename": "KeyError",
     "evalue": "1",
     "output_type": "error",
     "traceback": [
      "\u001b[0;31m---------------------------------------------------------------------------\u001b[0m",
      "\u001b[0;31mKeyError\u001b[0m                                  Traceback (most recent call last)",
      "\u001b[0;32m~/opt/anaconda3/lib/python3.8/site-packages/pandas/core/indexes/base.py\u001b[0m in \u001b[0;36mget_loc\u001b[0;34m(self, key, method, tolerance)\u001b[0m\n\u001b[1;32m   2645\u001b[0m             \u001b[0;32mtry\u001b[0m\u001b[0;34m:\u001b[0m\u001b[0;34m\u001b[0m\u001b[0;34m\u001b[0m\u001b[0m\n\u001b[0;32m-> 2646\u001b[0;31m                 \u001b[0;32mreturn\u001b[0m \u001b[0mself\u001b[0m\u001b[0;34m.\u001b[0m\u001b[0m_engine\u001b[0m\u001b[0;34m.\u001b[0m\u001b[0mget_loc\u001b[0m\u001b[0;34m(\u001b[0m\u001b[0mkey\u001b[0m\u001b[0;34m)\u001b[0m\u001b[0;34m\u001b[0m\u001b[0;34m\u001b[0m\u001b[0m\n\u001b[0m\u001b[1;32m   2647\u001b[0m             \u001b[0;32mexcept\u001b[0m \u001b[0mKeyError\u001b[0m\u001b[0;34m:\u001b[0m\u001b[0;34m\u001b[0m\u001b[0;34m\u001b[0m\u001b[0m\n",
      "\u001b[0;32mpandas/_libs/index.pyx\u001b[0m in \u001b[0;36mpandas._libs.index.IndexEngine.get_loc\u001b[0;34m()\u001b[0m\n",
      "\u001b[0;32mpandas/_libs/index.pyx\u001b[0m in \u001b[0;36mpandas._libs.index.IndexEngine.get_loc\u001b[0;34m()\u001b[0m\n",
      "\u001b[0;32mpandas/_libs/hashtable_class_helper.pxi\u001b[0m in \u001b[0;36mpandas._libs.hashtable.Int64HashTable.get_item\u001b[0;34m()\u001b[0m\n",
      "\u001b[0;32mpandas/_libs/hashtable_class_helper.pxi\u001b[0m in \u001b[0;36mpandas._libs.hashtable.Int64HashTable.get_item\u001b[0;34m()\u001b[0m\n",
      "\u001b[0;31mKeyError\u001b[0m: 1",
      "\nDuring handling of the above exception, another exception occurred:\n",
      "\u001b[0;31mKeyError\u001b[0m                                  Traceback (most recent call last)",
      "\u001b[0;32m<ipython-input-319-8d40fd37b3b3>\u001b[0m in \u001b[0;36m<module>\u001b[0;34m\u001b[0m\n\u001b[1;32m      5\u001b[0m \u001b[0;34m\u001b[0m\u001b[0m\n\u001b[1;32m      6\u001b[0m \u001b[0;32mfor\u001b[0m \u001b[0mi\u001b[0m \u001b[0;32min\u001b[0m \u001b[0mrange\u001b[0m\u001b[0;34m(\u001b[0m\u001b[0mmetodo_pago\u001b[0m\u001b[0;34m.\u001b[0m\u001b[0mshape\u001b[0m\u001b[0;34m[\u001b[0m\u001b[0;36m0\u001b[0m\u001b[0;34m]\u001b[0m\u001b[0;34m)\u001b[0m\u001b[0;34m:\u001b[0m\u001b[0;34m\u001b[0m\u001b[0;34m\u001b[0m\u001b[0m\n\u001b[0;32m----> 7\u001b[0;31m     \u001b[0;32mif\u001b[0m \u001b[0mmetodo_pago\u001b[0m\u001b[0;34m.\u001b[0m\u001b[0mloc\u001b[0m\u001b[0;34m[\u001b[0m\u001b[0mi\u001b[0m\u001b[0;34m,\u001b[0m\u001b[0;34m'FINAN ICETEX'\u001b[0m\u001b[0;34m]\u001b[0m \u001b[0;34m==\u001b[0m \u001b[0;34m'Otro'\u001b[0m\u001b[0;34m:\u001b[0m\u001b[0;34m\u001b[0m\u001b[0;34m\u001b[0m\u001b[0m\n\u001b[0m\u001b[1;32m      8\u001b[0m         \u001b[0;32mif\u001b[0m \u001b[0mmetodo_pago\u001b[0m\u001b[0;34m.\u001b[0m\u001b[0mloc\u001b[0m\u001b[0;34m[\u001b[0m\u001b[0mi\u001b[0m\u001b[0;34m,\u001b[0m\u001b[0;34m'FINAN BANCARIA'\u001b[0m\u001b[0;34m]\u001b[0m \u001b[0;34m==\u001b[0m \u001b[0;34m'Otro'\u001b[0m\u001b[0;34m:\u001b[0m\u001b[0;34m\u001b[0m\u001b[0;34m\u001b[0m\u001b[0m\n\u001b[1;32m      9\u001b[0m             \u001b[0mmetodo_pago\u001b[0m\u001b[0;34m.\u001b[0m\u001b[0mloc\u001b[0m\u001b[0;34m[\u001b[0m\u001b[0mi\u001b[0m\u001b[0;34m,\u001b[0m\u001b[0;34m'METODO_PAGO'\u001b[0m\u001b[0;34m]\u001b[0m \u001b[0;34m=\u001b[0m \u001b[0;34m'PAGO DIRECTO'\u001b[0m\u001b[0;34m\u001b[0m\u001b[0;34m\u001b[0m\u001b[0m\n",
      "\u001b[0;32m~/opt/anaconda3/lib/python3.8/site-packages/pandas/core/indexing.py\u001b[0m in \u001b[0;36m__getitem__\u001b[0;34m(self, key)\u001b[0m\n\u001b[1;32m   1760\u001b[0m                 \u001b[0;32mexcept\u001b[0m \u001b[0;34m(\u001b[0m\u001b[0mKeyError\u001b[0m\u001b[0;34m,\u001b[0m \u001b[0mIndexError\u001b[0m\u001b[0;34m,\u001b[0m \u001b[0mAttributeError\u001b[0m\u001b[0;34m)\u001b[0m\u001b[0;34m:\u001b[0m\u001b[0;34m\u001b[0m\u001b[0;34m\u001b[0m\u001b[0m\n\u001b[1;32m   1761\u001b[0m                     \u001b[0;32mpass\u001b[0m\u001b[0;34m\u001b[0m\u001b[0;34m\u001b[0m\u001b[0m\n\u001b[0;32m-> 1762\u001b[0;31m             \u001b[0;32mreturn\u001b[0m \u001b[0mself\u001b[0m\u001b[0;34m.\u001b[0m\u001b[0m_getitem_tuple\u001b[0m\u001b[0;34m(\u001b[0m\u001b[0mkey\u001b[0m\u001b[0;34m)\u001b[0m\u001b[0;34m\u001b[0m\u001b[0;34m\u001b[0m\u001b[0m\n\u001b[0m\u001b[1;32m   1763\u001b[0m         \u001b[0;32melse\u001b[0m\u001b[0;34m:\u001b[0m\u001b[0;34m\u001b[0m\u001b[0;34m\u001b[0m\u001b[0m\n\u001b[1;32m   1764\u001b[0m             \u001b[0;31m# we by definition only have the 0th axis\u001b[0m\u001b[0;34m\u001b[0m\u001b[0;34m\u001b[0m\u001b[0;34m\u001b[0m\u001b[0m\n",
      "\u001b[0;32m~/opt/anaconda3/lib/python3.8/site-packages/pandas/core/indexing.py\u001b[0m in \u001b[0;36m_getitem_tuple\u001b[0;34m(self, tup)\u001b[0m\n\u001b[1;32m   1270\u001b[0m     \u001b[0;32mdef\u001b[0m \u001b[0m_getitem_tuple\u001b[0m\u001b[0;34m(\u001b[0m\u001b[0mself\u001b[0m\u001b[0;34m,\u001b[0m \u001b[0mtup\u001b[0m\u001b[0;34m:\u001b[0m \u001b[0mTuple\u001b[0m\u001b[0;34m)\u001b[0m\u001b[0;34m:\u001b[0m\u001b[0;34m\u001b[0m\u001b[0;34m\u001b[0m\u001b[0m\n\u001b[1;32m   1271\u001b[0m         \u001b[0;32mtry\u001b[0m\u001b[0;34m:\u001b[0m\u001b[0;34m\u001b[0m\u001b[0;34m\u001b[0m\u001b[0m\n\u001b[0;32m-> 1272\u001b[0;31m             \u001b[0;32mreturn\u001b[0m \u001b[0mself\u001b[0m\u001b[0;34m.\u001b[0m\u001b[0m_getitem_lowerdim\u001b[0m\u001b[0;34m(\u001b[0m\u001b[0mtup\u001b[0m\u001b[0;34m)\u001b[0m\u001b[0;34m\u001b[0m\u001b[0;34m\u001b[0m\u001b[0m\n\u001b[0m\u001b[1;32m   1273\u001b[0m         \u001b[0;32mexcept\u001b[0m \u001b[0mIndexingError\u001b[0m\u001b[0;34m:\u001b[0m\u001b[0;34m\u001b[0m\u001b[0;34m\u001b[0m\u001b[0m\n\u001b[1;32m   1274\u001b[0m             \u001b[0;32mpass\u001b[0m\u001b[0;34m\u001b[0m\u001b[0;34m\u001b[0m\u001b[0m\n",
      "\u001b[0;32m~/opt/anaconda3/lib/python3.8/site-packages/pandas/core/indexing.py\u001b[0m in \u001b[0;36m_getitem_lowerdim\u001b[0;34m(self, tup)\u001b[0m\n\u001b[1;32m   1387\u001b[0m         \u001b[0;32mfor\u001b[0m \u001b[0mi\u001b[0m\u001b[0;34m,\u001b[0m \u001b[0mkey\u001b[0m \u001b[0;32min\u001b[0m \u001b[0menumerate\u001b[0m\u001b[0;34m(\u001b[0m\u001b[0mtup\u001b[0m\u001b[0;34m)\u001b[0m\u001b[0;34m:\u001b[0m\u001b[0;34m\u001b[0m\u001b[0;34m\u001b[0m\u001b[0m\n\u001b[1;32m   1388\u001b[0m             \u001b[0;32mif\u001b[0m \u001b[0mis_label_like\u001b[0m\u001b[0;34m(\u001b[0m\u001b[0mkey\u001b[0m\u001b[0;34m)\u001b[0m \u001b[0;32mor\u001b[0m \u001b[0misinstance\u001b[0m\u001b[0;34m(\u001b[0m\u001b[0mkey\u001b[0m\u001b[0;34m,\u001b[0m \u001b[0mtuple\u001b[0m\u001b[0;34m)\u001b[0m\u001b[0;34m:\u001b[0m\u001b[0;34m\u001b[0m\u001b[0;34m\u001b[0m\u001b[0m\n\u001b[0;32m-> 1389\u001b[0;31m                 \u001b[0msection\u001b[0m \u001b[0;34m=\u001b[0m \u001b[0mself\u001b[0m\u001b[0;34m.\u001b[0m\u001b[0m_getitem_axis\u001b[0m\u001b[0;34m(\u001b[0m\u001b[0mkey\u001b[0m\u001b[0;34m,\u001b[0m \u001b[0maxis\u001b[0m\u001b[0;34m=\u001b[0m\u001b[0mi\u001b[0m\u001b[0;34m)\u001b[0m\u001b[0;34m\u001b[0m\u001b[0;34m\u001b[0m\u001b[0m\n\u001b[0m\u001b[1;32m   1390\u001b[0m \u001b[0;34m\u001b[0m\u001b[0m\n\u001b[1;32m   1391\u001b[0m                 \u001b[0;31m# we have yielded a scalar ?\u001b[0m\u001b[0;34m\u001b[0m\u001b[0;34m\u001b[0m\u001b[0;34m\u001b[0m\u001b[0m\n",
      "\u001b[0;32m~/opt/anaconda3/lib/python3.8/site-packages/pandas/core/indexing.py\u001b[0m in \u001b[0;36m_getitem_axis\u001b[0;34m(self, key, axis)\u001b[0m\n\u001b[1;32m   1963\u001b[0m         \u001b[0;31m# fall thru to straight lookup\u001b[0m\u001b[0;34m\u001b[0m\u001b[0;34m\u001b[0m\u001b[0;34m\u001b[0m\u001b[0m\n\u001b[1;32m   1964\u001b[0m         \u001b[0mself\u001b[0m\u001b[0;34m.\u001b[0m\u001b[0m_validate_key\u001b[0m\u001b[0;34m(\u001b[0m\u001b[0mkey\u001b[0m\u001b[0;34m,\u001b[0m \u001b[0maxis\u001b[0m\u001b[0;34m)\u001b[0m\u001b[0;34m\u001b[0m\u001b[0;34m\u001b[0m\u001b[0m\n\u001b[0;32m-> 1965\u001b[0;31m         \u001b[0;32mreturn\u001b[0m \u001b[0mself\u001b[0m\u001b[0;34m.\u001b[0m\u001b[0m_get_label\u001b[0m\u001b[0;34m(\u001b[0m\u001b[0mkey\u001b[0m\u001b[0;34m,\u001b[0m \u001b[0maxis\u001b[0m\u001b[0;34m=\u001b[0m\u001b[0maxis\u001b[0m\u001b[0;34m)\u001b[0m\u001b[0;34m\u001b[0m\u001b[0;34m\u001b[0m\u001b[0m\n\u001b[0m\u001b[1;32m   1966\u001b[0m \u001b[0;34m\u001b[0m\u001b[0m\n\u001b[1;32m   1967\u001b[0m \u001b[0;34m\u001b[0m\u001b[0m\n",
      "\u001b[0;32m~/opt/anaconda3/lib/python3.8/site-packages/pandas/core/indexing.py\u001b[0m in \u001b[0;36m_get_label\u001b[0;34m(self, label, axis)\u001b[0m\n\u001b[1;32m    623\u001b[0m             \u001b[0;32mraise\u001b[0m \u001b[0mIndexingError\u001b[0m\u001b[0;34m(\u001b[0m\u001b[0;34m\"no slices here, handle elsewhere\"\u001b[0m\u001b[0;34m)\u001b[0m\u001b[0;34m\u001b[0m\u001b[0;34m\u001b[0m\u001b[0m\n\u001b[1;32m    624\u001b[0m \u001b[0;34m\u001b[0m\u001b[0m\n\u001b[0;32m--> 625\u001b[0;31m         \u001b[0;32mreturn\u001b[0m \u001b[0mself\u001b[0m\u001b[0;34m.\u001b[0m\u001b[0mobj\u001b[0m\u001b[0;34m.\u001b[0m\u001b[0m_xs\u001b[0m\u001b[0;34m(\u001b[0m\u001b[0mlabel\u001b[0m\u001b[0;34m,\u001b[0m \u001b[0maxis\u001b[0m\u001b[0;34m=\u001b[0m\u001b[0maxis\u001b[0m\u001b[0;34m)\u001b[0m\u001b[0;34m\u001b[0m\u001b[0;34m\u001b[0m\u001b[0m\n\u001b[0m\u001b[1;32m    626\u001b[0m \u001b[0;34m\u001b[0m\u001b[0m\n\u001b[1;32m    627\u001b[0m     \u001b[0;32mdef\u001b[0m \u001b[0m_get_loc\u001b[0m\u001b[0;34m(\u001b[0m\u001b[0mself\u001b[0m\u001b[0;34m,\u001b[0m \u001b[0mkey\u001b[0m\u001b[0;34m:\u001b[0m \u001b[0mint\u001b[0m\u001b[0;34m,\u001b[0m \u001b[0maxis\u001b[0m\u001b[0;34m:\u001b[0m \u001b[0mint\u001b[0m\u001b[0;34m)\u001b[0m\u001b[0;34m:\u001b[0m\u001b[0;34m\u001b[0m\u001b[0;34m\u001b[0m\u001b[0m\n",
      "\u001b[0;32m~/opt/anaconda3/lib/python3.8/site-packages/pandas/core/generic.py\u001b[0m in \u001b[0;36mxs\u001b[0;34m(self, key, axis, level, drop_level)\u001b[0m\n\u001b[1;32m   3535\u001b[0m             \u001b[0mloc\u001b[0m\u001b[0;34m,\u001b[0m \u001b[0mnew_index\u001b[0m \u001b[0;34m=\u001b[0m \u001b[0mself\u001b[0m\u001b[0;34m.\u001b[0m\u001b[0mindex\u001b[0m\u001b[0;34m.\u001b[0m\u001b[0mget_loc_level\u001b[0m\u001b[0;34m(\u001b[0m\u001b[0mkey\u001b[0m\u001b[0;34m,\u001b[0m \u001b[0mdrop_level\u001b[0m\u001b[0;34m=\u001b[0m\u001b[0mdrop_level\u001b[0m\u001b[0;34m)\u001b[0m\u001b[0;34m\u001b[0m\u001b[0;34m\u001b[0m\u001b[0m\n\u001b[1;32m   3536\u001b[0m         \u001b[0;32melse\u001b[0m\u001b[0;34m:\u001b[0m\u001b[0;34m\u001b[0m\u001b[0;34m\u001b[0m\u001b[0m\n\u001b[0;32m-> 3537\u001b[0;31m             \u001b[0mloc\u001b[0m \u001b[0;34m=\u001b[0m \u001b[0mself\u001b[0m\u001b[0;34m.\u001b[0m\u001b[0mindex\u001b[0m\u001b[0;34m.\u001b[0m\u001b[0mget_loc\u001b[0m\u001b[0;34m(\u001b[0m\u001b[0mkey\u001b[0m\u001b[0;34m)\u001b[0m\u001b[0;34m\u001b[0m\u001b[0;34m\u001b[0m\u001b[0m\n\u001b[0m\u001b[1;32m   3538\u001b[0m \u001b[0;34m\u001b[0m\u001b[0m\n\u001b[1;32m   3539\u001b[0m             \u001b[0;32mif\u001b[0m \u001b[0misinstance\u001b[0m\u001b[0;34m(\u001b[0m\u001b[0mloc\u001b[0m\u001b[0;34m,\u001b[0m \u001b[0mnp\u001b[0m\u001b[0;34m.\u001b[0m\u001b[0mndarray\u001b[0m\u001b[0;34m)\u001b[0m\u001b[0;34m:\u001b[0m\u001b[0;34m\u001b[0m\u001b[0;34m\u001b[0m\u001b[0m\n",
      "\u001b[0;32m~/opt/anaconda3/lib/python3.8/site-packages/pandas/core/indexes/base.py\u001b[0m in \u001b[0;36mget_loc\u001b[0;34m(self, key, method, tolerance)\u001b[0m\n\u001b[1;32m   2646\u001b[0m                 \u001b[0;32mreturn\u001b[0m \u001b[0mself\u001b[0m\u001b[0;34m.\u001b[0m\u001b[0m_engine\u001b[0m\u001b[0;34m.\u001b[0m\u001b[0mget_loc\u001b[0m\u001b[0;34m(\u001b[0m\u001b[0mkey\u001b[0m\u001b[0;34m)\u001b[0m\u001b[0;34m\u001b[0m\u001b[0;34m\u001b[0m\u001b[0m\n\u001b[1;32m   2647\u001b[0m             \u001b[0;32mexcept\u001b[0m \u001b[0mKeyError\u001b[0m\u001b[0;34m:\u001b[0m\u001b[0;34m\u001b[0m\u001b[0;34m\u001b[0m\u001b[0m\n\u001b[0;32m-> 2648\u001b[0;31m                 \u001b[0;32mreturn\u001b[0m \u001b[0mself\u001b[0m\u001b[0;34m.\u001b[0m\u001b[0m_engine\u001b[0m\u001b[0;34m.\u001b[0m\u001b[0mget_loc\u001b[0m\u001b[0;34m(\u001b[0m\u001b[0mself\u001b[0m\u001b[0;34m.\u001b[0m\u001b[0m_maybe_cast_indexer\u001b[0m\u001b[0;34m(\u001b[0m\u001b[0mkey\u001b[0m\u001b[0;34m)\u001b[0m\u001b[0;34m)\u001b[0m\u001b[0;34m\u001b[0m\u001b[0;34m\u001b[0m\u001b[0m\n\u001b[0m\u001b[1;32m   2649\u001b[0m         \u001b[0mindexer\u001b[0m \u001b[0;34m=\u001b[0m \u001b[0mself\u001b[0m\u001b[0;34m.\u001b[0m\u001b[0mget_indexer\u001b[0m\u001b[0;34m(\u001b[0m\u001b[0;34m[\u001b[0m\u001b[0mkey\u001b[0m\u001b[0;34m]\u001b[0m\u001b[0;34m,\u001b[0m \u001b[0mmethod\u001b[0m\u001b[0;34m=\u001b[0m\u001b[0mmethod\u001b[0m\u001b[0;34m,\u001b[0m \u001b[0mtolerance\u001b[0m\u001b[0;34m=\u001b[0m\u001b[0mtolerance\u001b[0m\u001b[0;34m)\u001b[0m\u001b[0;34m\u001b[0m\u001b[0;34m\u001b[0m\u001b[0m\n\u001b[1;32m   2650\u001b[0m         \u001b[0;32mif\u001b[0m \u001b[0mindexer\u001b[0m\u001b[0;34m.\u001b[0m\u001b[0mndim\u001b[0m \u001b[0;34m>\u001b[0m \u001b[0;36m1\u001b[0m \u001b[0;32mor\u001b[0m \u001b[0mindexer\u001b[0m\u001b[0;34m.\u001b[0m\u001b[0msize\u001b[0m \u001b[0;34m>\u001b[0m \u001b[0;36m1\u001b[0m\u001b[0;34m:\u001b[0m\u001b[0;34m\u001b[0m\u001b[0;34m\u001b[0m\u001b[0m\n",
      "\u001b[0;32mpandas/_libs/index.pyx\u001b[0m in \u001b[0;36mpandas._libs.index.IndexEngine.get_loc\u001b[0;34m()\u001b[0m\n",
      "\u001b[0;32mpandas/_libs/index.pyx\u001b[0m in \u001b[0;36mpandas._libs.index.IndexEngine.get_loc\u001b[0;34m()\u001b[0m\n",
      "\u001b[0;32mpandas/_libs/hashtable_class_helper.pxi\u001b[0m in \u001b[0;36mpandas._libs.hashtable.Int64HashTable.get_item\u001b[0;34m()\u001b[0m\n",
      "\u001b[0;32mpandas/_libs/hashtable_class_helper.pxi\u001b[0m in \u001b[0;36mpandas._libs.hashtable.Int64HashTable.get_item\u001b[0;34m()\u001b[0m\n",
      "\u001b[0;31mKeyError\u001b[0m: 1"
     ]
    }
   ],
   "source": [
    "#Se unifican los métodos de pago\n",
    "metodo_pago = df_20191.loc[:,['ID','FINAN ICETEX','FINAN BANCARIA','PAGO DIRECTO']]\n",
    "metodo_pago = metodo_pago.drop_duplicates()\n",
    "metodo_pago = metodo_pago.fillna('Otro')\n",
    "\n",
    "for i in range(metodo_pago.shape[0]):\n",
    "    if metodo_pago.loc[i,'FINAN ICETEX'] == 'Otro':\n",
    "        if metodo_pago.loc[i,'FINAN BANCARIA'] == 'Otro':\n",
    "            metodo_pago.loc[i,'METODO_PAGO'] = 'PAGO DIRECTO'\n",
    "        else:\n",
    "            metodo_pago.loc[i,'METODO_PAGO'] = 'FINAN BANCARIA'\n",
    "    else:\n",
    "        metodo_pago.loc[i,'METODO_PAGO'] = 'FINAN ICETEX'\n",
    "metodo_pago = metodo_pago.drop(columns = ['FINAN ICETEX','FINAN BANCARIA','PAGO DIRECTO']).drop_duplicates()\n",
    "\n",
    "\n",
    "#Verificación que no hayan valores nulos en metodo_pago\n",
    "metodo_pago.isnull().sum()"
   ]
  },
  {
   "cell_type": "code",
   "execution_count": 314,
   "metadata": {},
   "outputs": [
    {
     "data": {
      "text/plain": [
       "PAGO DIRECTO    76\n",
       "Name: METODO_PAGO, dtype: int64"
      ]
     },
     "execution_count": 314,
     "metadata": {},
     "output_type": "execute_result"
    }
   ],
   "source": [
    "metodo_pago.METODO_PAGO.value_counts()"
   ]
  },
  {
   "cell_type": "code",
   "execution_count": 288,
   "metadata": {},
   "outputs": [
    {
     "data": {
      "text/plain": [
       "array([[1],\n",
       "       [1],\n",
       "       [1],\n",
       "       [1],\n",
       "       [1],\n",
       "       [1],\n",
       "       [1],\n",
       "       [1],\n",
       "       [1],\n",
       "       [1],\n",
       "       [1],\n",
       "       [1],\n",
       "       [1],\n",
       "       [1],\n",
       "       [1],\n",
       "       [1],\n",
       "       [1],\n",
       "       [1],\n",
       "       [1],\n",
       "       [1],\n",
       "       [1],\n",
       "       [1],\n",
       "       [1],\n",
       "       [1],\n",
       "       [1],\n",
       "       [1],\n",
       "       [1],\n",
       "       [1],\n",
       "       [1],\n",
       "       [1],\n",
       "       [1],\n",
       "       [1],\n",
       "       [1],\n",
       "       [1],\n",
       "       [1],\n",
       "       [1],\n",
       "       [1],\n",
       "       [1],\n",
       "       [1],\n",
       "       [1],\n",
       "       [1],\n",
       "       [1],\n",
       "       [1],\n",
       "       [1],\n",
       "       [1],\n",
       "       [1],\n",
       "       [1],\n",
       "       [1],\n",
       "       [1],\n",
       "       [1],\n",
       "       [1],\n",
       "       [1],\n",
       "       [1],\n",
       "       [1],\n",
       "       [1],\n",
       "       [1],\n",
       "       [1],\n",
       "       [1],\n",
       "       [1],\n",
       "       [1],\n",
       "       [1],\n",
       "       [1],\n",
       "       [1],\n",
       "       [1],\n",
       "       [1],\n",
       "       [1],\n",
       "       [1],\n",
       "       [1],\n",
       "       [1],\n",
       "       [1],\n",
       "       [1],\n",
       "       [1],\n",
       "       [1],\n",
       "       [1],\n",
       "       [1],\n",
       "       [1]], dtype=uint8)"
      ]
     },
     "execution_count": 288,
     "metadata": {},
     "output_type": "execute_result"
    }
   ],
   "source": [
    "metodo_pago_dummies.values"
   ]
  },
  {
   "cell_type": "code",
   "execution_count": 398,
   "metadata": {},
   "outputs": [],
   "source": [
    "#Calculo el cantidad de materias\n",
    "cant_materia = pd.DataFrame(columns=['ID','COD_MATERIA'])\n",
    "row = 0\n",
    "for i in id_df20191:\n",
    "    mask = df_20191['ID'] == i\n",
    "    cant_materia.loc[row,'ID'] = i\n",
    "    cant_materia.loc[row,'CANT_MATERIAS'] = len(df_20191[mask]['COD_MATERIA'].unique())\n",
    "    row = row +1\n",
    "cant_materia = cant_materia.drop(columns = ['COD_MATERIA'])"
   ]
  },
  {
   "cell_type": "code",
   "execution_count": 399,
   "metadata": {},
   "outputs": [
    {
     "data": {
      "text/html": [
       "<div>\n",
       "<style scoped>\n",
       "    .dataframe tbody tr th:only-of-type {\n",
       "        vertical-align: middle;\n",
       "    }\n",
       "\n",
       "    .dataframe tbody tr th {\n",
       "        vertical-align: top;\n",
       "    }\n",
       "\n",
       "    .dataframe thead th {\n",
       "        text-align: right;\n",
       "    }\n",
       "</style>\n",
       "<table border=\"1\" class=\"dataframe\">\n",
       "  <thead>\n",
       "    <tr style=\"text-align: right;\">\n",
       "      <th></th>\n",
       "      <th>ID</th>\n",
       "      <th>CANT_MATERIAS</th>\n",
       "    </tr>\n",
       "  </thead>\n",
       "  <tbody>\n",
       "    <tr>\n",
       "      <th>0</th>\n",
       "      <td>AJC-0010</td>\n",
       "      <td>6.0</td>\n",
       "    </tr>\n",
       "    <tr>\n",
       "      <th>1</th>\n",
       "      <td>AJC-0027</td>\n",
       "      <td>6.0</td>\n",
       "    </tr>\n",
       "    <tr>\n",
       "      <th>2</th>\n",
       "      <td>AJC-0041</td>\n",
       "      <td>6.0</td>\n",
       "    </tr>\n",
       "    <tr>\n",
       "      <th>3</th>\n",
       "      <td>AJC-0052</td>\n",
       "      <td>6.0</td>\n",
       "    </tr>\n",
       "    <tr>\n",
       "      <th>4</th>\n",
       "      <td>AJC-0054</td>\n",
       "      <td>6.0</td>\n",
       "    </tr>\n",
       "    <tr>\n",
       "      <th>...</th>\n",
       "      <td>...</td>\n",
       "      <td>...</td>\n",
       "    </tr>\n",
       "    <tr>\n",
       "      <th>71</th>\n",
       "      <td>AJC-1264</td>\n",
       "      <td>6.0</td>\n",
       "    </tr>\n",
       "    <tr>\n",
       "      <th>72</th>\n",
       "      <td>AJC-1280</td>\n",
       "      <td>6.0</td>\n",
       "    </tr>\n",
       "    <tr>\n",
       "      <th>73</th>\n",
       "      <td>AJC-1292</td>\n",
       "      <td>6.0</td>\n",
       "    </tr>\n",
       "    <tr>\n",
       "      <th>74</th>\n",
       "      <td>AJC-1315</td>\n",
       "      <td>6.0</td>\n",
       "    </tr>\n",
       "    <tr>\n",
       "      <th>75</th>\n",
       "      <td>AJC-1322</td>\n",
       "      <td>6.0</td>\n",
       "    </tr>\n",
       "  </tbody>\n",
       "</table>\n",
       "<p>76 rows × 2 columns</p>\n",
       "</div>"
      ],
      "text/plain": [
       "          ID  CANT_MATERIAS\n",
       "0   AJC-0010            6.0\n",
       "1   AJC-0027            6.0\n",
       "2   AJC-0041            6.0\n",
       "3   AJC-0052            6.0\n",
       "4   AJC-0054            6.0\n",
       "..       ...            ...\n",
       "71  AJC-1264            6.0\n",
       "72  AJC-1280            6.0\n",
       "73  AJC-1292            6.0\n",
       "74  AJC-1315            6.0\n",
       "75  AJC-1322            6.0\n",
       "\n",
       "[76 rows x 2 columns]"
      ]
     },
     "execution_count": 399,
     "metadata": {},
     "output_type": "execute_result"
    }
   ],
   "source": [
    "cant_materia"
   ]
  },
  {
   "cell_type": "code",
   "execution_count": 400,
   "metadata": {},
   "outputs": [],
   "source": [
    "#Calculo de edad de cada estudiante\n",
    "df_edad = df_20191.loc[:,['ID','FECHA_NACIMIENTO']]\n",
    "df_edad = df_edad.drop_duplicates()\n",
    "edades = pd.DataFrame(columns = ['ID','EDAD'])\n",
    "row = 0\n",
    "for i in df_edad['FECHA_NACIMIENTO']:\n",
    "    edades.loc[row,'EDAD'] = int(calcular_edad(i))\n",
    "    row = row + 1\n",
    "row = 0    \n",
    "for i in df_edad['ID']:\n",
    "    edades.loc[row,'ID'] = i\n",
    "    row = row + 1"
   ]
  },
  {
   "cell_type": "code",
   "execution_count": 401,
   "metadata": {},
   "outputs": [],
   "source": [
    "#Calculo de edad de cada estudiante\n",
    "estrato = df_20191.loc[:,['ID','ESTRATO']].drop_duplicates().fillna(0)"
   ]
  },
  {
   "cell_type": "code",
   "execution_count": 402,
   "metadata": {},
   "outputs": [],
   "source": [
    "genero = df_20191.loc[:,['ID','GENERO']].drop_duplicates()\n",
    "genero_dummies = pd.get_dummies(genero.GENERO)"
   ]
  },
  {
   "cell_type": "code",
   "execution_count": 403,
   "metadata": {},
   "outputs": [],
   "source": [
    "#Se eliminan columnas que no se utilizarán en la primera versión del análisis, los días de la semana donde se recibia clase. Ni fechas de ejecución de los pagos\n",
    "df_20191 = df_20191.drop(columns=['GENERO','ESTADO_CIVIL','PAIS_NACIMIENTO','DPTO_NACIMIENTO','CIUDAD_NACIMIENTO','DPTO_RESIDENCIA','CIUDAD_GENERAL','BARRIO','ESTRATO','DIRECCION','PAIS_RESIDENCIA','FECHA_NACIMIENTO','LUNES','MARTES','MIERCOLES','JUEVES','VIERNES','SABADO','DOMINGO','COLEGIO','COLEGIO2','COD_PROG','PROGRAMA','MATERIA','COD_MATERIA','GRUPO','EVAC_ID','EVALUACION','CALF_PARCIAL','FECHA_MATRICULA','FECHA DE PAGO','SNP','DOCENTE','ESTADO','PER_ADMISION','REAC_TIPO','GRUP_ID','FINAN ICETEX','FINAN BANCARIA','PAGO DIRECTO']).drop_duplicates()\n"
   ]
  },
  {
   "cell_type": "markdown",
   "metadata": {},
   "source": [
    "### Etiqueta de desertor"
   ]
  },
  {
   "cell_type": "code",
   "execution_count": 404,
   "metadata": {},
   "outputs": [
    {
     "name": "stdout",
     "output_type": "stream",
     "text": [
      "\u001b[1m  ID 20192\u001b[0m\n",
      "AJC-1185    35\n",
      "AJC-0846    30\n",
      "AJC-0430    30\n",
      "AJC-0054    30\n",
      "AJC-1064    30\n",
      "            ..\n",
      "AJC-0739    15\n",
      "AJC-0161    15\n",
      "AJC-0989    15\n",
      "AJC-0116    10\n",
      "AJC-1255    10\n",
      "Name: ID, Length: 61, dtype: int64\n"
     ]
    }
   ],
   "source": [
    "#ID 20192\n",
    "print(color.BOLD + '  ID 20192' + color.END)\n",
    "print(df_20192['ID'].value_counts())\n",
    "id_df20192 = df_20192['ID']\n",
    "id_df20192 = id_df20192.drop_duplicates()\n",
    "id_df20191 = id_df20191.values\n",
    "id_df20191 = id_df20191.tolist()\n",
    "id_df20192 = id_df20192.values\n",
    "id_df20192 = id_df20192.tolist()"
   ]
  },
  {
   "cell_type": "code",
   "execution_count": 405,
   "metadata": {},
   "outputs": [
    {
     "name": "stdout",
     "output_type": "stream",
     "text": [
      "\u001b[1m  ID 20201\u001b[0m\n",
      "AJC-0966    30\n",
      "AJC-0645    30\n",
      "AJC-0967    30\n",
      "AJC-0615    30\n",
      "AJC-1292    30\n",
      "AJC-0878    30\n",
      "AJC-0529    30\n",
      "AJC-1188    30\n",
      "AJC-0940    30\n",
      "AJC-1388    30\n",
      "AJC-0202    30\n",
      "AJC-0974    30\n",
      "AJC-0430    30\n",
      "AJC-0674    30\n",
      "AJC-0604    30\n",
      "AJC-0847    30\n",
      "AJC-0027    30\n",
      "AJC-0125    30\n",
      "AJC-0619    30\n",
      "AJC-0557    30\n",
      "AJC-1185    30\n",
      "AJC-0282    30\n",
      "AJC-0478    30\n",
      "AJC-0041    30\n",
      "AJC-0507    30\n",
      "AJC-1231    30\n",
      "AJC-1156    30\n",
      "AJC-0779    30\n",
      "AJC-0204    30\n",
      "AJC-0139    30\n",
      "AJC-0495    25\n",
      "AJC-0947    25\n",
      "AJC-0054    25\n",
      "AJC-0134    25\n",
      "AJC-0846    25\n",
      "AJC-1064    20\n",
      "AJC-0375    20\n",
      "AJC-0413    20\n",
      "AJC-0692    20\n",
      "AJC-1025    20\n",
      "AJC-0116    20\n",
      "AJC-1230    20\n",
      "AJC-1151    15\n",
      "Name: ID, dtype: int64\n"
     ]
    }
   ],
   "source": [
    "#ID 20201\n",
    "print(color.BOLD + '  ID 20201' + color.END)\n",
    "print(df_20201['ID'].value_counts())\n",
    "id_df20201 = df_20201['ID']\n",
    "id_df20201 = id_df20201.drop_duplicates()\n",
    "id_df20201 = id_df20201.values\n",
    "id_df20201 = id_df20201.tolist()"
   ]
  },
  {
   "cell_type": "code",
   "execution_count": 406,
   "metadata": {},
   "outputs": [],
   "source": [
    "candidatos_desertores = []\n",
    "for i in range(len(id_df20191)):\n",
    "    if id_df20191[i] in id_df20201:\n",
    "        continue\n",
    "    else:\n",
    "        candidatos_desertores.append(id_df20191[i])"
   ]
  },
  {
   "cell_type": "code",
   "execution_count": 407,
   "metadata": {},
   "outputs": [
    {
     "name": "stdout",
     "output_type": "stream",
     "text": [
      "Estudiantes candidatos a desertores: 34\n",
      " ['AJC-0010', 'AJC-0052', 'AJC-0096', 'AJC-0123', 'AJC-0129', 'AJC-0161', 'AJC-0233', 'AJC-0255', 'AJC-0435', 'AJC-0438', 'AJC-0479', 'AJC-0558', 'AJC-0739', 'AJC-0902', 'AJC-0921', 'AJC-0934', 'AJC-0968', 'AJC-0989', 'AJC-0996', 'AJC-1051', 'AJC-1060', 'AJC-1100', 'AJC-1104', 'AJC-1118', 'AJC-1202', 'AJC-1220', 'AJC-1225', 'AJC-1239', 'AJC-1255', 'AJC-1258', 'AJC-1264', 'AJC-1280', 'AJC-1315', 'AJC-1322']\n"
     ]
    }
   ],
   "source": [
    "print(f\"Estudiantes candidatos a desertores: {len(candidatos_desertores)}\\n\",candidatos_desertores)"
   ]
  },
  {
   "cell_type": "code",
   "execution_count": 408,
   "metadata": {},
   "outputs": [],
   "source": [
    "desertores_reales = []\n",
    "for i in range(len(candidatos_desertores)):\n",
    "    if candidatos_desertores[i] in id_df20192:\n",
    "        continue\n",
    "    else:\n",
    "        desertores_reales.append(candidatos_desertores[i])"
   ]
  },
  {
   "cell_type": "code",
   "execution_count": 409,
   "metadata": {},
   "outputs": [
    {
     "name": "stdout",
     "output_type": "stream",
     "text": [
      "Estudiantes candidatos a desertores: 17 \n",
      " ['AJC-0010', 'AJC-0052', 'AJC-0096', 'AJC-0123', 'AJC-0435', 'AJC-0438', 'AJC-0479', 'AJC-0934', 'AJC-0996', 'AJC-1051', 'AJC-1100', 'AJC-1118', 'AJC-1225', 'AJC-1258', 'AJC-1264', 'AJC-1280', 'AJC-1315']\n"
     ]
    }
   ],
   "source": [
    "print(f\"Estudiantes candidatos a desertores: {len(desertores_reales)} \\n\",desertores_reales)"
   ]
  },
  {
   "cell_type": "code",
   "execution_count": 410,
   "metadata": {},
   "outputs": [],
   "source": [
    "estado_academico = pd.DataFrame(columns=['ID','ESTADO'])\n",
    "row = 0\n",
    "for i in id_df20191:\n",
    "    if i in desertores_reales:\n",
    "        estado_academico.loc[row,'ESTADO'] = 'Desertor'\n",
    "    else:\n",
    "        estado_academico.loc[row,'ESTADO'] = 'Activo'\n",
    "    estado_academico.loc[row,'ID'] = i\n",
    "    row = row + 1"
   ]
  },
  {
   "cell_type": "code",
   "execution_count": 411,
   "metadata": {},
   "outputs": [
    {
     "data": {
      "text/html": [
       "<div>\n",
       "<style scoped>\n",
       "    .dataframe tbody tr th:only-of-type {\n",
       "        vertical-align: middle;\n",
       "    }\n",
       "\n",
       "    .dataframe tbody tr th {\n",
       "        vertical-align: top;\n",
       "    }\n",
       "\n",
       "    .dataframe thead th {\n",
       "        text-align: right;\n",
       "    }\n",
       "</style>\n",
       "<table border=\"1\" class=\"dataframe\">\n",
       "  <thead>\n",
       "    <tr style=\"text-align: right;\">\n",
       "      <th></th>\n",
       "      <th>ID</th>\n",
       "      <th>ESTADO</th>\n",
       "    </tr>\n",
       "  </thead>\n",
       "  <tbody>\n",
       "    <tr>\n",
       "      <th>0</th>\n",
       "      <td>AJC-0010</td>\n",
       "      <td>Desertor</td>\n",
       "    </tr>\n",
       "    <tr>\n",
       "      <th>1</th>\n",
       "      <td>AJC-0027</td>\n",
       "      <td>Activo</td>\n",
       "    </tr>\n",
       "    <tr>\n",
       "      <th>2</th>\n",
       "      <td>AJC-0041</td>\n",
       "      <td>Activo</td>\n",
       "    </tr>\n",
       "    <tr>\n",
       "      <th>3</th>\n",
       "      <td>AJC-0052</td>\n",
       "      <td>Desertor</td>\n",
       "    </tr>\n",
       "    <tr>\n",
       "      <th>4</th>\n",
       "      <td>AJC-0054</td>\n",
       "      <td>Activo</td>\n",
       "    </tr>\n",
       "    <tr>\n",
       "      <th>...</th>\n",
       "      <td>...</td>\n",
       "      <td>...</td>\n",
       "    </tr>\n",
       "    <tr>\n",
       "      <th>71</th>\n",
       "      <td>AJC-1264</td>\n",
       "      <td>Desertor</td>\n",
       "    </tr>\n",
       "    <tr>\n",
       "      <th>72</th>\n",
       "      <td>AJC-1280</td>\n",
       "      <td>Desertor</td>\n",
       "    </tr>\n",
       "    <tr>\n",
       "      <th>73</th>\n",
       "      <td>AJC-1292</td>\n",
       "      <td>Activo</td>\n",
       "    </tr>\n",
       "    <tr>\n",
       "      <th>74</th>\n",
       "      <td>AJC-1315</td>\n",
       "      <td>Desertor</td>\n",
       "    </tr>\n",
       "    <tr>\n",
       "      <th>75</th>\n",
       "      <td>AJC-1322</td>\n",
       "      <td>Activo</td>\n",
       "    </tr>\n",
       "  </tbody>\n",
       "</table>\n",
       "<p>76 rows × 2 columns</p>\n",
       "</div>"
      ],
      "text/plain": [
       "          ID    ESTADO\n",
       "0   AJC-0010  Desertor\n",
       "1   AJC-0027    Activo\n",
       "2   AJC-0041    Activo\n",
       "3   AJC-0052  Desertor\n",
       "4   AJC-0054    Activo\n",
       "..       ...       ...\n",
       "71  AJC-1264  Desertor\n",
       "72  AJC-1280  Desertor\n",
       "73  AJC-1292    Activo\n",
       "74  AJC-1315  Desertor\n",
       "75  AJC-1322    Activo\n",
       "\n",
       "[76 rows x 2 columns]"
      ]
     },
     "execution_count": 411,
     "metadata": {},
     "output_type": "execute_result"
    }
   ],
   "source": [
    "estado_academico"
   ]
  },
  {
   "cell_type": "code",
   "execution_count": 412,
   "metadata": {},
   "outputs": [],
   "source": [
    "estado_academico_dummies = pd.get_dummies(estado_academico.ESTADO)"
   ]
  },
  {
   "cell_type": "code",
   "execution_count": 413,
   "metadata": {},
   "outputs": [
    {
     "data": {
      "text/html": [
       "<div>\n",
       "<style scoped>\n",
       "    .dataframe tbody tr th:only-of-type {\n",
       "        vertical-align: middle;\n",
       "    }\n",
       "\n",
       "    .dataframe tbody tr th {\n",
       "        vertical-align: top;\n",
       "    }\n",
       "\n",
       "    .dataframe thead th {\n",
       "        text-align: right;\n",
       "    }\n",
       "</style>\n",
       "<table border=\"1\" class=\"dataframe\">\n",
       "  <thead>\n",
       "    <tr style=\"text-align: right;\">\n",
       "      <th></th>\n",
       "      <th>F</th>\n",
       "      <th>M</th>\n",
       "    </tr>\n",
       "  </thead>\n",
       "  <tbody>\n",
       "    <tr>\n",
       "      <th>0</th>\n",
       "      <td>0</td>\n",
       "      <td>1</td>\n",
       "    </tr>\n",
       "    <tr>\n",
       "      <th>30</th>\n",
       "      <td>0</td>\n",
       "      <td>1</td>\n",
       "    </tr>\n",
       "    <tr>\n",
       "      <th>60</th>\n",
       "      <td>0</td>\n",
       "      <td>1</td>\n",
       "    </tr>\n",
       "    <tr>\n",
       "      <th>90</th>\n",
       "      <td>0</td>\n",
       "      <td>1</td>\n",
       "    </tr>\n",
       "    <tr>\n",
       "      <th>120</th>\n",
       "      <td>0</td>\n",
       "      <td>1</td>\n",
       "    </tr>\n",
       "    <tr>\n",
       "      <th>...</th>\n",
       "      <td>...</td>\n",
       "      <td>...</td>\n",
       "    </tr>\n",
       "    <tr>\n",
       "      <th>2125</th>\n",
       "      <td>0</td>\n",
       "      <td>1</td>\n",
       "    </tr>\n",
       "    <tr>\n",
       "      <th>2155</th>\n",
       "      <td>0</td>\n",
       "      <td>1</td>\n",
       "    </tr>\n",
       "    <tr>\n",
       "      <th>2185</th>\n",
       "      <td>0</td>\n",
       "      <td>1</td>\n",
       "    </tr>\n",
       "    <tr>\n",
       "      <th>2215</th>\n",
       "      <td>0</td>\n",
       "      <td>1</td>\n",
       "    </tr>\n",
       "    <tr>\n",
       "      <th>2245</th>\n",
       "      <td>0</td>\n",
       "      <td>1</td>\n",
       "    </tr>\n",
       "  </tbody>\n",
       "</table>\n",
       "<p>76 rows × 2 columns</p>\n",
       "</div>"
      ],
      "text/plain": [
       "      F  M\n",
       "0     0  1\n",
       "30    0  1\n",
       "60    0  1\n",
       "90    0  1\n",
       "120   0  1\n",
       "...  .. ..\n",
       "2125  0  1\n",
       "2155  0  1\n",
       "2185  0  1\n",
       "2215  0  1\n",
       "2245  0  1\n",
       "\n",
       "[76 rows x 2 columns]"
      ]
     },
     "execution_count": 413,
     "metadata": {},
     "output_type": "execute_result"
    }
   ],
   "source": [
    "genero_dummies"
   ]
  },
  {
   "cell_type": "markdown",
   "metadata": {},
   "source": [
    "## Formando Dataset1 - Entrenamiento"
   ]
  },
  {
   "cell_type": "code",
   "execution_count": 414,
   "metadata": {},
   "outputs": [
    {
     "data": {
      "text/plain": [
       "'\"df_20191[\\'COLEGIO\\'] = colegio[\\'COLEGIO\\']\\ndf_20191[\\'CANT_MATERIAS\\'] = cant_materia[\\'CANT_MATERIAS\\']\\ndf_20191[\\'METODO_PADO\\'] = metodo_pago[\\'METODO_PAGO\\']\\ndf_20191[\\'ESTADO\\'] = estado_academico[\\'ESTADO\\']\\ndf_20191[\\'EDAD\\'] = edades[\\'EDAD\\']'"
      ]
     },
     "execution_count": 414,
     "metadata": {},
     "output_type": "execute_result"
    }
   ],
   "source": [
    "\"\"\"\"df_20191['COLEGIO'] = colegio['COLEGIO']\n",
    "df_20191['CANT_MATERIAS'] = cant_materia['CANT_MATERIAS']\n",
    "df_20191['METODO_PADO'] = metodo_pago['METODO_PAGO']\n",
    "df_20191['ESTADO'] = estado_academico['ESTADO']\n",
    "df_20191['EDAD'] = edades['EDAD']\"\"\""
   ]
  },
  {
   "cell_type": "code",
   "execution_count": 415,
   "metadata": {},
   "outputs": [],
   "source": [
    "#final = pd.merge(df_20191,genero_dummies, on = 'ID')\n",
    "final = pd.merge(df_20191,cant_materia, on = 'ID')\n",
    "final = pd.merge(final, edades,on = 'ID')\n",
    "#final = pd.merge(final, estado_academico_dummies,on = 'ID')\n"
   ]
  },
  {
   "cell_type": "code",
   "execution_count": 416,
   "metadata": {},
   "outputs": [],
   "source": [
    "genero_dummies.reset_index(drop=True, inplace=True)\n",
    "estado_academico_dummies.reset_index(drop=True, inplace=True)\n",
    "final.reset_index(drop=True, inplace=True)\n"
   ]
  },
  {
   "cell_type": "code",
   "execution_count": 417,
   "metadata": {},
   "outputs": [],
   "source": [
    "final_csv = pd.concat([final,genero_dummies,estado_academico_dummies],axis=1)"
   ]
  },
  {
   "cell_type": "code",
   "execution_count": 418,
   "metadata": {},
   "outputs": [
    {
     "data": {
      "text/plain": [
       "ID               0\n",
       "PROMEDIO         0\n",
       "CANT_MATERIAS    0\n",
       "EDAD             0\n",
       "F                0\n",
       "M                0\n",
       "Activo           0\n",
       "Desertor         0\n",
       "dtype: int64"
      ]
     },
     "execution_count": 418,
     "metadata": {},
     "output_type": "execute_result"
    }
   ],
   "source": [
    "final_csv.isnull().sum()"
   ]
  },
  {
   "cell_type": "code",
   "execution_count": 420,
   "metadata": {},
   "outputs": [],
   "source": [
    "final_csv.to_csv('final_normalizado.csv')"
   ]
  },
  {
   "cell_type": "code",
   "execution_count": 276,
   "metadata": {},
   "outputs": [],
   "source": [
    "final.to_csv('final.csv')"
   ]
  },
  {
   "cell_type": "code",
   "execution_count": 115,
   "metadata": {},
   "outputs": [],
   "source": [
    "final_20191 = pd.DataFrame(columns=['ID','GENERO','ESTRATO','PAIS_NACIMIENTO','DPTO_NACIMIENTO','CIUDAD_NACIMIENTO','EDAD','CIUDAD_RESIDENCIA','BARRIO','COLEGIO','CANT_MATERIAS','PROMEDIO','FORMA_PAGO'])\n"
   ]
  },
  {
   "cell_type": "code",
   "execution_count": 36,
   "metadata": {},
   "outputs": [],
   "source": [
    "final_20191['GENERO'] = df_20191[mask].iloc[1,'GENERO']"
   ]
  },
  {
   "cell_type": "code",
   "execution_count": 89,
   "metadata": {},
   "outputs": [],
   "source": [
    "final_20191[0,'ID'] = i\n",
    "final_20191.loc[0,'GENERO'] = df_20191[mask].loc[0,'GENERO']\n"
   ]
  },
  {
   "cell_type": "code",
   "execution_count": 116,
   "metadata": {},
   "outputs": [],
   "source": [
    "row = 0\n",
    "i = id_df20191[0]\n",
    "mask = df_20191['ID'] == i\n",
    "final_20191.loc[row,'ID'] = i"
   ]
  },
  {
   "cell_type": "code",
   "execution_count": 183,
   "metadata": {},
   "outputs": [
    {
     "data": {
      "text/html": [
       "<div>\n",
       "<style scoped>\n",
       "    .dataframe tbody tr th:only-of-type {\n",
       "        vertical-align: middle;\n",
       "    }\n",
       "\n",
       "    .dataframe tbody tr th {\n",
       "        vertical-align: top;\n",
       "    }\n",
       "\n",
       "    .dataframe thead th {\n",
       "        text-align: right;\n",
       "    }\n",
       "</style>\n",
       "<table border=\"1\" class=\"dataframe\">\n",
       "  <thead>\n",
       "    <tr style=\"text-align: right;\">\n",
       "      <th></th>\n",
       "      <th>ID</th>\n",
       "      <th>EDAD</th>\n",
       "      <th>ESTADO</th>\n",
       "    </tr>\n",
       "  </thead>\n",
       "  <tbody>\n",
       "    <tr>\n",
       "      <th>0</th>\n",
       "      <td>AJC-0010</td>\n",
       "      <td>19</td>\n",
       "      <td>Desertor</td>\n",
       "    </tr>\n",
       "    <tr>\n",
       "      <th>1</th>\n",
       "      <td>AJC-0027</td>\n",
       "      <td>19</td>\n",
       "      <td>Activo</td>\n",
       "    </tr>\n",
       "    <tr>\n",
       "      <th>2</th>\n",
       "      <td>AJC-0041</td>\n",
       "      <td>19</td>\n",
       "      <td>Activo</td>\n",
       "    </tr>\n",
       "    <tr>\n",
       "      <th>3</th>\n",
       "      <td>AJC-0052</td>\n",
       "      <td>20</td>\n",
       "      <td>Desertor</td>\n",
       "    </tr>\n",
       "    <tr>\n",
       "      <th>4</th>\n",
       "      <td>AJC-0054</td>\n",
       "      <td>20</td>\n",
       "      <td>Activo</td>\n",
       "    </tr>\n",
       "    <tr>\n",
       "      <th>...</th>\n",
       "      <td>...</td>\n",
       "      <td>...</td>\n",
       "      <td>...</td>\n",
       "    </tr>\n",
       "    <tr>\n",
       "      <th>71</th>\n",
       "      <td>AJC-1264</td>\n",
       "      <td>20</td>\n",
       "      <td>Desertor</td>\n",
       "    </tr>\n",
       "    <tr>\n",
       "      <th>72</th>\n",
       "      <td>AJC-1280</td>\n",
       "      <td>21</td>\n",
       "      <td>Desertor</td>\n",
       "    </tr>\n",
       "    <tr>\n",
       "      <th>73</th>\n",
       "      <td>AJC-1292</td>\n",
       "      <td>19</td>\n",
       "      <td>Activo</td>\n",
       "    </tr>\n",
       "    <tr>\n",
       "      <th>74</th>\n",
       "      <td>AJC-1315</td>\n",
       "      <td>21</td>\n",
       "      <td>Desertor</td>\n",
       "    </tr>\n",
       "    <tr>\n",
       "      <th>75</th>\n",
       "      <td>AJC-1322</td>\n",
       "      <td>19</td>\n",
       "      <td>Activo</td>\n",
       "    </tr>\n",
       "  </tbody>\n",
       "</table>\n",
       "<p>76 rows × 3 columns</p>\n",
       "</div>"
      ],
      "text/plain": [
       "          ID EDAD    ESTADO\n",
       "0   AJC-0010   19  Desertor\n",
       "1   AJC-0027   19    Activo\n",
       "2   AJC-0041   19    Activo\n",
       "3   AJC-0052   20  Desertor\n",
       "4   AJC-0054   20    Activo\n",
       "..       ...  ...       ...\n",
       "71  AJC-1264   20  Desertor\n",
       "72  AJC-1280   21  Desertor\n",
       "73  AJC-1292   19    Activo\n",
       "74  AJC-1315   21  Desertor\n",
       "75  AJC-1322   19    Activo\n",
       "\n",
       "[76 rows x 3 columns]"
      ]
     },
     "execution_count": 183,
     "metadata": {},
     "output_type": "execute_result"
    }
   ],
   "source": [
    "pd.merge(edades,estado_academico,on='ID')"
   ]
  },
  {
   "cell_type": "code",
   "execution_count": 181,
   "metadata": {},
   "outputs": [
    {
     "data": {
      "text/plain": [
       "0        19\n",
       "30       21\n",
       "60       20\n",
       "90      NaN\n",
       "120     NaN\n",
       "       ... \n",
       "2125    NaN\n",
       "2155    NaN\n",
       "2185    NaN\n",
       "2215    NaN\n",
       "2245    NaN\n",
       "Name: EDAD, Length: 76, dtype: object"
      ]
     },
     "execution_count": 181,
     "metadata": {},
     "output_type": "execute_result"
    }
   ],
   "source": [
    "df_20191['EDAD']"
   ]
  },
  {
   "cell_type": "code",
   "execution_count": 148,
   "metadata": {},
   "outputs": [
    {
     "data": {
      "text/html": [
       "<div>\n",
       "<style scoped>\n",
       "    .dataframe tbody tr th:only-of-type {\n",
       "        vertical-align: middle;\n",
       "    }\n",
       "\n",
       "    .dataframe tbody tr th {\n",
       "        vertical-align: top;\n",
       "    }\n",
       "\n",
       "    .dataframe thead th {\n",
       "        text-align: right;\n",
       "    }\n",
       "</style>\n",
       "<table border=\"1\" class=\"dataframe\">\n",
       "  <thead>\n",
       "    <tr style=\"text-align: right;\">\n",
       "      <th></th>\n",
       "      <th>ID</th>\n",
       "      <th>GENERO</th>\n",
       "      <th>ESTADO_CIVIL</th>\n",
       "      <th>ESTRATO</th>\n",
       "      <th>PAIS_NACIMIENTO</th>\n",
       "      <th>DPTO_NACIMIENTO</th>\n",
       "      <th>CIUDAD_NACIMIENTO</th>\n",
       "      <th>DPTO_RESIDENCIA</th>\n",
       "      <th>CIUDAD_GENERAL</th>\n",
       "      <th>BARRIO</th>\n",
       "      <th>PROMEDIO</th>\n",
       "      <th>COLEGIO</th>\n",
       "      <th>CANT_MATERIAS</th>\n",
       "      <th>METODO_PADO</th>\n",
       "      <th>ESTADO</th>\n",
       "      <th>EDAD</th>\n",
       "    </tr>\n",
       "  </thead>\n",
       "  <tbody>\n",
       "    <tr>\n",
       "      <th>0</th>\n",
       "      <td>AJC-0010</td>\n",
       "      <td>M</td>\n",
       "      <td>Soltero</td>\n",
       "      <td>NaN</td>\n",
       "      <td>Colombia</td>\n",
       "      <td>Valle del Cauca</td>\n",
       "      <td>BUENAVENTURA</td>\n",
       "      <td>Valle del Cauca</td>\n",
       "      <td>CALI</td>\n",
       "      <td>Barranquilla</td>\n",
       "      <td>2.8</td>\n",
       "      <td>El Milagroso</td>\n",
       "      <td>6.0</td>\n",
       "      <td>PAGO DIRECTO</td>\n",
       "      <td>Desertor</td>\n",
       "      <td>19</td>\n",
       "    </tr>\n",
       "    <tr>\n",
       "      <th>30</th>\n",
       "      <td>AJC-0027</td>\n",
       "      <td>M</td>\n",
       "      <td>Soltero</td>\n",
       "      <td>1.0</td>\n",
       "      <td>Colombia</td>\n",
       "      <td>Valle del Cauca</td>\n",
       "      <td>CALI</td>\n",
       "      <td>Valle del Cauca</td>\n",
       "      <td>CANDELARIA</td>\n",
       "      <td>belen</td>\n",
       "      <td>4.0</td>\n",
       "      <td>SANTIAGO RENGIFO SALCEDO</td>\n",
       "      <td>6.0</td>\n",
       "      <td>PAGO DIRECTO</td>\n",
       "      <td>Activo</td>\n",
       "      <td>21</td>\n",
       "    </tr>\n",
       "    <tr>\n",
       "      <th>60</th>\n",
       "      <td>AJC-0041</td>\n",
       "      <td>M</td>\n",
       "      <td>Soltero</td>\n",
       "      <td>1.0</td>\n",
       "      <td>Colombia</td>\n",
       "      <td>Valle del Cauca</td>\n",
       "      <td>CALI</td>\n",
       "      <td>Valle del Cauca</td>\n",
       "      <td>CALI</td>\n",
       "      <td>PRADOS DEL SUR</td>\n",
       "      <td>3.7</td>\n",
       "      <td>FUNDACION EDUCATIVA JOSE ANGEL HERRERA MORA</td>\n",
       "      <td>6.0</td>\n",
       "      <td>PAGO DIRECTO</td>\n",
       "      <td>Activo</td>\n",
       "      <td>20</td>\n",
       "    </tr>\n",
       "    <tr>\n",
       "      <th>90</th>\n",
       "      <td>AJC-0052</td>\n",
       "      <td>M</td>\n",
       "      <td>Soltero</td>\n",
       "      <td>NaN</td>\n",
       "      <td>Colombia</td>\n",
       "      <td>Valle del Cauca</td>\n",
       "      <td>CALI</td>\n",
       "      <td>Valle del Cauca</td>\n",
       "      <td>CALI</td>\n",
       "      <td>remansos de comfani</td>\n",
       "      <td>2.3</td>\n",
       "      <td>institucion educativa tecnica ciudadela decepaz</td>\n",
       "      <td>NaN</td>\n",
       "      <td>PAGO DIRECTO</td>\n",
       "      <td>NaN</td>\n",
       "      <td>NaN</td>\n",
       "    </tr>\n",
       "    <tr>\n",
       "      <th>120</th>\n",
       "      <td>AJC-0054</td>\n",
       "      <td>M</td>\n",
       "      <td>Soltero</td>\n",
       "      <td>3.0</td>\n",
       "      <td>Colombia</td>\n",
       "      <td>Valle del Cauca</td>\n",
       "      <td>CALI</td>\n",
       "      <td>Valle del Cauca</td>\n",
       "      <td>CALI</td>\n",
       "      <td>CALIPSO</td>\n",
       "      <td>3.2</td>\n",
       "      <td>INSTITUCIÓN EDUCATIVA LICEO PORVENIR</td>\n",
       "      <td>NaN</td>\n",
       "      <td>PAGO DIRECTO</td>\n",
       "      <td>NaN</td>\n",
       "      <td>NaN</td>\n",
       "    </tr>\n",
       "    <tr>\n",
       "      <th>...</th>\n",
       "      <td>...</td>\n",
       "      <td>...</td>\n",
       "      <td>...</td>\n",
       "      <td>...</td>\n",
       "      <td>...</td>\n",
       "      <td>...</td>\n",
       "      <td>...</td>\n",
       "      <td>...</td>\n",
       "      <td>...</td>\n",
       "      <td>...</td>\n",
       "      <td>...</td>\n",
       "      <td>...</td>\n",
       "      <td>...</td>\n",
       "      <td>...</td>\n",
       "      <td>...</td>\n",
       "      <td>...</td>\n",
       "    </tr>\n",
       "    <tr>\n",
       "      <th>2125</th>\n",
       "      <td>AJC-1264</td>\n",
       "      <td>M</td>\n",
       "      <td>Soltero</td>\n",
       "      <td>NaN</td>\n",
       "      <td>Colombia</td>\n",
       "      <td>Cauca</td>\n",
       "      <td>PUERTO TEJADA</td>\n",
       "      <td>Cauca</td>\n",
       "      <td>PUERTO TEJADA</td>\n",
       "      <td>santa helena</td>\n",
       "      <td>2.7</td>\n",
       "      <td>I.E. FIDELINA ECHEVERRY - SEDE PRINCIPAL</td>\n",
       "      <td>NaN</td>\n",
       "      <td>PAGO DIRECTO</td>\n",
       "      <td>NaN</td>\n",
       "      <td>NaN</td>\n",
       "    </tr>\n",
       "    <tr>\n",
       "      <th>2155</th>\n",
       "      <td>AJC-1280</td>\n",
       "      <td>M</td>\n",
       "      <td>Separado(a)</td>\n",
       "      <td>NaN</td>\n",
       "      <td>Colombia</td>\n",
       "      <td>Valle del Cauca</td>\n",
       "      <td>CALI</td>\n",
       "      <td>Valle del Cauca</td>\n",
       "      <td>CALI</td>\n",
       "      <td>talanga 4</td>\n",
       "      <td>0.2</td>\n",
       "      <td>institucion educativa tecnica industria rafael...</td>\n",
       "      <td>NaN</td>\n",
       "      <td>PAGO DIRECTO</td>\n",
       "      <td>NaN</td>\n",
       "      <td>NaN</td>\n",
       "    </tr>\n",
       "    <tr>\n",
       "      <th>2185</th>\n",
       "      <td>AJC-1292</td>\n",
       "      <td>M</td>\n",
       "      <td>Soltero</td>\n",
       "      <td>2.0</td>\n",
       "      <td>Colombia</td>\n",
       "      <td>Valle del Cauca</td>\n",
       "      <td>CALI</td>\n",
       "      <td>Valle del Cauca</td>\n",
       "      <td>CALI</td>\n",
       "      <td>antonio nariño</td>\n",
       "      <td>4.1</td>\n",
       "      <td>COL CENTRAL MADRID</td>\n",
       "      <td>NaN</td>\n",
       "      <td>PAGO DIRECTO</td>\n",
       "      <td>NaN</td>\n",
       "      <td>NaN</td>\n",
       "    </tr>\n",
       "    <tr>\n",
       "      <th>2215</th>\n",
       "      <td>AJC-1315</td>\n",
       "      <td>M</td>\n",
       "      <td>Soltero</td>\n",
       "      <td>NaN</td>\n",
       "      <td>Colombia</td>\n",
       "      <td>Cauca</td>\n",
       "      <td>VILLA RICA</td>\n",
       "      <td>Cauca</td>\n",
       "      <td>VILLA RICA</td>\n",
       "      <td>terronal</td>\n",
       "      <td>2.8</td>\n",
       "      <td>senon fabio villegas</td>\n",
       "      <td>NaN</td>\n",
       "      <td>PAGO DIRECTO</td>\n",
       "      <td>NaN</td>\n",
       "      <td>NaN</td>\n",
       "    </tr>\n",
       "    <tr>\n",
       "      <th>2245</th>\n",
       "      <td>AJC-1322</td>\n",
       "      <td>M</td>\n",
       "      <td>Soltero</td>\n",
       "      <td>NaN</td>\n",
       "      <td>Colombia</td>\n",
       "      <td>Valle del Cauca</td>\n",
       "      <td>CALI</td>\n",
       "      <td>Valle del Cauca</td>\n",
       "      <td>CALI</td>\n",
       "      <td>Olimpico</td>\n",
       "      <td>0.8</td>\n",
       "      <td>INSTITUCION EDUCATIVA JOAQUIN DE CAYZEDO Y CUERO</td>\n",
       "      <td>NaN</td>\n",
       "      <td>PAGO DIRECTO</td>\n",
       "      <td>NaN</td>\n",
       "      <td>NaN</td>\n",
       "    </tr>\n",
       "  </tbody>\n",
       "</table>\n",
       "<p>76 rows × 16 columns</p>\n",
       "</div>"
      ],
      "text/plain": [
       "            ID GENERO ESTADO_CIVIL  ESTRATO PAIS_NACIMIENTO  DPTO_NACIMIENTO  \\\n",
       "0     AJC-0010      M      Soltero      NaN        Colombia  Valle del Cauca   \n",
       "30    AJC-0027      M      Soltero      1.0        Colombia  Valle del Cauca   \n",
       "60    AJC-0041      M      Soltero      1.0        Colombia  Valle del Cauca   \n",
       "90    AJC-0052      M      Soltero      NaN        Colombia  Valle del Cauca   \n",
       "120   AJC-0054      M      Soltero      3.0        Colombia  Valle del Cauca   \n",
       "...        ...    ...          ...      ...             ...              ...   \n",
       "2125  AJC-1264      M      Soltero      NaN        Colombia            Cauca   \n",
       "2155  AJC-1280      M  Separado(a)      NaN        Colombia  Valle del Cauca   \n",
       "2185  AJC-1292      M      Soltero      2.0        Colombia  Valle del Cauca   \n",
       "2215  AJC-1315      M      Soltero      NaN        Colombia            Cauca   \n",
       "2245  AJC-1322      M      Soltero      NaN        Colombia  Valle del Cauca   \n",
       "\n",
       "     CIUDAD_NACIMIENTO  DPTO_RESIDENCIA CIUDAD_GENERAL               BARRIO  \\\n",
       "0         BUENAVENTURA  Valle del Cauca           CALI         Barranquilla   \n",
       "30                CALI  Valle del Cauca     CANDELARIA                belen   \n",
       "60                CALI  Valle del Cauca           CALI       PRADOS DEL SUR   \n",
       "90                CALI  Valle del Cauca           CALI  remansos de comfani   \n",
       "120               CALI  Valle del Cauca           CALI              CALIPSO   \n",
       "...                ...              ...            ...                  ...   \n",
       "2125     PUERTO TEJADA            Cauca  PUERTO TEJADA         santa helena   \n",
       "2155              CALI  Valle del Cauca           CALI            talanga 4   \n",
       "2185              CALI  Valle del Cauca           CALI       antonio nariño   \n",
       "2215        VILLA RICA            Cauca     VILLA RICA             terronal   \n",
       "2245              CALI  Valle del Cauca           CALI             Olimpico   \n",
       "\n",
       "      PROMEDIO                                            COLEGIO  \\\n",
       "0          2.8                                       El Milagroso   \n",
       "30         4.0                           SANTIAGO RENGIFO SALCEDO   \n",
       "60         3.7        FUNDACION EDUCATIVA JOSE ANGEL HERRERA MORA   \n",
       "90         2.3    institucion educativa tecnica ciudadela decepaz   \n",
       "120        3.2               INSTITUCIÓN EDUCATIVA LICEO PORVENIR   \n",
       "...        ...                                                ...   \n",
       "2125       2.7           I.E. FIDELINA ECHEVERRY - SEDE PRINCIPAL   \n",
       "2155       0.2  institucion educativa tecnica industria rafael...   \n",
       "2185       4.1                                 COL CENTRAL MADRID   \n",
       "2215       2.8                               senon fabio villegas   \n",
       "2245       0.8   INSTITUCION EDUCATIVA JOAQUIN DE CAYZEDO Y CUERO   \n",
       "\n",
       "      CANT_MATERIAS   METODO_PADO    ESTADO EDAD  \n",
       "0               6.0  PAGO DIRECTO  Desertor   19  \n",
       "30              6.0  PAGO DIRECTO    Activo   21  \n",
       "60              6.0  PAGO DIRECTO    Activo   20  \n",
       "90              NaN  PAGO DIRECTO       NaN  NaN  \n",
       "120             NaN  PAGO DIRECTO       NaN  NaN  \n",
       "...             ...           ...       ...  ...  \n",
       "2125            NaN  PAGO DIRECTO       NaN  NaN  \n",
       "2155            NaN  PAGO DIRECTO       NaN  NaN  \n",
       "2185            NaN  PAGO DIRECTO       NaN  NaN  \n",
       "2215            NaN  PAGO DIRECTO       NaN  NaN  \n",
       "2245            NaN  PAGO DIRECTO       NaN  NaN  \n",
       "\n",
       "[76 rows x 16 columns]"
      ]
     },
     "execution_count": 148,
     "metadata": {},
     "output_type": "execute_result"
    }
   ],
   "source": [
    "df_20191"
   ]
  },
  {
   "cell_type": "code",
   "execution_count": 49,
   "metadata": {},
   "outputs": [],
   "source": [
    "final_20191 = pd.DataFrame(columns=['ID','GENERO','ESTRATO','PAIS_NACIMIENTO','DPTO_NACIMIENTO','CIUDAD_NACIMIENTO','EDAD','CIUDAD_RESIDENCIA','BARRIO','COLEGIO','CANT_MATERIAS','PROMEDIO','FORMA_PAGO'])\n"
   ]
  },
  {
   "cell_type": "code",
   "execution_count": 100,
   "metadata": {},
   "outputs": [
    {
     "name": "stdout",
     "output_type": "stream",
     "text": [
      "\u001b[1m  ID 20192\u001b[0m\n",
      "AJC-1185    35\n",
      "AJC-0940    30\n",
      "AJC-0921    30\n",
      "AJC-1231    30\n",
      "AJC-1188    30\n",
      "            ..\n",
      "AJC-0902    15\n",
      "AJC-0161    15\n",
      "AJC-0989    15\n",
      "AJC-1255    10\n",
      "AJC-0116    10\n",
      "Name: ID, Length: 61, dtype: int64\n"
     ]
    }
   ],
   "source": [
    "print(color.BOLD + '  ID 20192' + color.END)\n",
    "print(df_20192['ID'].value_counts())\n",
    "id_df20192 = df_20192['ID']\n",
    "id_df20192 = id_df20192.drop_duplicates()"
   ]
  },
  {
   "cell_type": "code",
   "execution_count": 102,
   "metadata": {},
   "outputs": [
    {
     "name": "stdout",
     "output_type": "stream",
     "text": [
      "\u001b[1m  ID 20201\u001b[0m\n",
      "AJC-0940    30\n",
      "AJC-0967    30\n",
      "AJC-0282    30\n",
      "AJC-0779    30\n",
      "AJC-0974    30\n",
      "AJC-0645    30\n",
      "AJC-0041    30\n",
      "AJC-0557    30\n",
      "AJC-0202    30\n",
      "AJC-1292    30\n",
      "AJC-1388    30\n",
      "AJC-0027    30\n",
      "AJC-0604    30\n",
      "AJC-0529    30\n",
      "AJC-1188    30\n",
      "AJC-0125    30\n",
      "AJC-0615    30\n",
      "AJC-0619    30\n",
      "AJC-0674    30\n",
      "AJC-0139    30\n",
      "AJC-0878    30\n",
      "AJC-1231    30\n",
      "AJC-1156    30\n",
      "AJC-1185    30\n",
      "AJC-0204    30\n",
      "AJC-0847    30\n",
      "AJC-0507    30\n",
      "AJC-0430    30\n",
      "AJC-0966    30\n",
      "AJC-0478    30\n",
      "AJC-0495    25\n",
      "AJC-0947    25\n",
      "AJC-0054    25\n",
      "AJC-0846    25\n",
      "AJC-0134    25\n",
      "AJC-1064    20\n",
      "AJC-0116    20\n",
      "AJC-0413    20\n",
      "AJC-1025    20\n",
      "AJC-0375    20\n",
      "AJC-1230    20\n",
      "AJC-0692    20\n",
      "AJC-1151    15\n",
      "Name: ID, dtype: int64\n"
     ]
    }
   ],
   "source": [
    "print(color.BOLD + '  ID 20201' + color.END)\n",
    "print(df_20201['ID'].value_counts())\n",
    "id_df20201 = df_20201['ID']\n",
    "id_df20201 = id_df20201.drop_duplicates()"
   ]
  },
  {
   "cell_type": "code",
   "execution_count": 104,
   "metadata": {},
   "outputs": [],
   "source": [
    "id_df20191 = id_df20191.values\n",
    "id_df20201 = id_df20201.values\n",
    "id_df20191=id_df20191.tolist()\n",
    "id_df20201=id_df20201.tolist()"
   ]
  },
  {
   "cell_type": "code",
   "execution_count": 67,
   "metadata": {},
   "outputs": [
    {
     "ename": "KeyError",
     "evalue": "1",
     "output_type": "error",
     "traceback": [
      "\u001b[0;31m---------------------------------------------------------------------------\u001b[0m",
      "\u001b[0;31mKeyError\u001b[0m                                  Traceback (most recent call last)",
      "\u001b[0;32m<ipython-input-67-30d406a03458>\u001b[0m in \u001b[0;36m<module>\u001b[0;34m\u001b[0m\n\u001b[1;32m      1\u001b[0m \u001b[0mdesertores\u001b[0m \u001b[0;34m=\u001b[0m \u001b[0;34m[\u001b[0m\u001b[0;34m]\u001b[0m\u001b[0;34m\u001b[0m\u001b[0;34m\u001b[0m\u001b[0m\n\u001b[1;32m      2\u001b[0m \u001b[0;32mfor\u001b[0m \u001b[0mi\u001b[0m \u001b[0;32min\u001b[0m \u001b[0mrange\u001b[0m\u001b[0;34m(\u001b[0m\u001b[0mlen\u001b[0m\u001b[0;34m(\u001b[0m\u001b[0mid_df20191\u001b[0m\u001b[0;34m)\u001b[0m\u001b[0;34m)\u001b[0m\u001b[0;34m:\u001b[0m\u001b[0;34m\u001b[0m\u001b[0;34m\u001b[0m\u001b[0m\n\u001b[0;32m----> 3\u001b[0;31m     \u001b[0;32mif\u001b[0m \u001b[0mid_df20191\u001b[0m\u001b[0;34m[\u001b[0m\u001b[0mi\u001b[0m\u001b[0;34m]\u001b[0m \u001b[0;32min\u001b[0m \u001b[0mid_df20201\u001b[0m\u001b[0;34m:\u001b[0m\u001b[0;34m\u001b[0m\u001b[0;34m\u001b[0m\u001b[0m\n\u001b[0m\u001b[1;32m      4\u001b[0m         \u001b[0;32mcontinue\u001b[0m\u001b[0;34m\u001b[0m\u001b[0;34m\u001b[0m\u001b[0m\n\u001b[1;32m      5\u001b[0m     \u001b[0;32melse\u001b[0m\u001b[0;34m:\u001b[0m\u001b[0;34m\u001b[0m\u001b[0;34m\u001b[0m\u001b[0m\n",
      "\u001b[0;32m~/opt/anaconda3/lib/python3.8/site-packages/pandas/core/series.py\u001b[0m in \u001b[0;36m__getitem__\u001b[0;34m(self, key)\u001b[0m\n\u001b[1;32m    869\u001b[0m         \u001b[0mkey\u001b[0m \u001b[0;34m=\u001b[0m \u001b[0mcom\u001b[0m\u001b[0;34m.\u001b[0m\u001b[0mapply_if_callable\u001b[0m\u001b[0;34m(\u001b[0m\u001b[0mkey\u001b[0m\u001b[0;34m,\u001b[0m \u001b[0mself\u001b[0m\u001b[0;34m)\u001b[0m\u001b[0;34m\u001b[0m\u001b[0;34m\u001b[0m\u001b[0m\n\u001b[1;32m    870\u001b[0m         \u001b[0;32mtry\u001b[0m\u001b[0;34m:\u001b[0m\u001b[0;34m\u001b[0m\u001b[0;34m\u001b[0m\u001b[0m\n\u001b[0;32m--> 871\u001b[0;31m             \u001b[0mresult\u001b[0m \u001b[0;34m=\u001b[0m \u001b[0mself\u001b[0m\u001b[0;34m.\u001b[0m\u001b[0mindex\u001b[0m\u001b[0;34m.\u001b[0m\u001b[0mget_value\u001b[0m\u001b[0;34m(\u001b[0m\u001b[0mself\u001b[0m\u001b[0;34m,\u001b[0m \u001b[0mkey\u001b[0m\u001b[0;34m)\u001b[0m\u001b[0;34m\u001b[0m\u001b[0;34m\u001b[0m\u001b[0m\n\u001b[0m\u001b[1;32m    872\u001b[0m \u001b[0;34m\u001b[0m\u001b[0m\n\u001b[1;32m    873\u001b[0m             \u001b[0;32mif\u001b[0m \u001b[0;32mnot\u001b[0m \u001b[0mis_scalar\u001b[0m\u001b[0;34m(\u001b[0m\u001b[0mresult\u001b[0m\u001b[0;34m)\u001b[0m\u001b[0;34m:\u001b[0m\u001b[0;34m\u001b[0m\u001b[0;34m\u001b[0m\u001b[0m\n",
      "\u001b[0;32m~/opt/anaconda3/lib/python3.8/site-packages/pandas/core/indexes/base.py\u001b[0m in \u001b[0;36mget_value\u001b[0;34m(self, series, key)\u001b[0m\n\u001b[1;32m   4403\u001b[0m         \u001b[0mk\u001b[0m \u001b[0;34m=\u001b[0m \u001b[0mself\u001b[0m\u001b[0;34m.\u001b[0m\u001b[0m_convert_scalar_indexer\u001b[0m\u001b[0;34m(\u001b[0m\u001b[0mk\u001b[0m\u001b[0;34m,\u001b[0m \u001b[0mkind\u001b[0m\u001b[0;34m=\u001b[0m\u001b[0;34m\"getitem\"\u001b[0m\u001b[0;34m)\u001b[0m\u001b[0;34m\u001b[0m\u001b[0;34m\u001b[0m\u001b[0m\n\u001b[1;32m   4404\u001b[0m         \u001b[0;32mtry\u001b[0m\u001b[0;34m:\u001b[0m\u001b[0;34m\u001b[0m\u001b[0;34m\u001b[0m\u001b[0m\n\u001b[0;32m-> 4405\u001b[0;31m             \u001b[0;32mreturn\u001b[0m \u001b[0mself\u001b[0m\u001b[0;34m.\u001b[0m\u001b[0m_engine\u001b[0m\u001b[0;34m.\u001b[0m\u001b[0mget_value\u001b[0m\u001b[0;34m(\u001b[0m\u001b[0ms\u001b[0m\u001b[0;34m,\u001b[0m \u001b[0mk\u001b[0m\u001b[0;34m,\u001b[0m \u001b[0mtz\u001b[0m\u001b[0;34m=\u001b[0m\u001b[0mgetattr\u001b[0m\u001b[0;34m(\u001b[0m\u001b[0mseries\u001b[0m\u001b[0;34m.\u001b[0m\u001b[0mdtype\u001b[0m\u001b[0;34m,\u001b[0m \u001b[0;34m\"tz\"\u001b[0m\u001b[0;34m,\u001b[0m \u001b[0;32mNone\u001b[0m\u001b[0;34m)\u001b[0m\u001b[0;34m)\u001b[0m\u001b[0;34m\u001b[0m\u001b[0;34m\u001b[0m\u001b[0m\n\u001b[0m\u001b[1;32m   4406\u001b[0m         \u001b[0;32mexcept\u001b[0m \u001b[0mKeyError\u001b[0m \u001b[0;32mas\u001b[0m \u001b[0me1\u001b[0m\u001b[0;34m:\u001b[0m\u001b[0;34m\u001b[0m\u001b[0;34m\u001b[0m\u001b[0m\n\u001b[1;32m   4407\u001b[0m             \u001b[0;32mif\u001b[0m \u001b[0mlen\u001b[0m\u001b[0;34m(\u001b[0m\u001b[0mself\u001b[0m\u001b[0;34m)\u001b[0m \u001b[0;34m>\u001b[0m \u001b[0;36m0\u001b[0m \u001b[0;32mand\u001b[0m \u001b[0;34m(\u001b[0m\u001b[0mself\u001b[0m\u001b[0;34m.\u001b[0m\u001b[0mholds_integer\u001b[0m\u001b[0;34m(\u001b[0m\u001b[0;34m)\u001b[0m \u001b[0;32mor\u001b[0m \u001b[0mself\u001b[0m\u001b[0;34m.\u001b[0m\u001b[0mis_boolean\u001b[0m\u001b[0;34m(\u001b[0m\u001b[0;34m)\u001b[0m\u001b[0;34m)\u001b[0m\u001b[0;34m:\u001b[0m\u001b[0;34m\u001b[0m\u001b[0;34m\u001b[0m\u001b[0m\n",
      "\u001b[0;32mpandas/_libs/index.pyx\u001b[0m in \u001b[0;36mpandas._libs.index.IndexEngine.get_value\u001b[0;34m()\u001b[0m\n",
      "\u001b[0;32mpandas/_libs/index.pyx\u001b[0m in \u001b[0;36mpandas._libs.index.IndexEngine.get_value\u001b[0;34m()\u001b[0m\n",
      "\u001b[0;32mpandas/_libs/index.pyx\u001b[0m in \u001b[0;36mpandas._libs.index.IndexEngine.get_loc\u001b[0;34m()\u001b[0m\n",
      "\u001b[0;32mpandas/_libs/hashtable_class_helper.pxi\u001b[0m in \u001b[0;36mpandas._libs.hashtable.Int64HashTable.get_item\u001b[0;34m()\u001b[0m\n",
      "\u001b[0;32mpandas/_libs/hashtable_class_helper.pxi\u001b[0m in \u001b[0;36mpandas._libs.hashtable.Int64HashTable.get_item\u001b[0;34m()\u001b[0m\n",
      "\u001b[0;31mKeyError\u001b[0m: 1"
     ]
    }
   ],
   "source": [
    "desertores = []\n",
    "for i in range(len(id_df20191)):\n",
    "    if id_df20191[i] in id_df20201:\n",
    "        continue\n",
    "    else:\n",
    "        desertores.append(id_df20191[i])"
   ]
  },
  {
   "cell_type": "code",
   "execution_count": 145,
   "metadata": {},
   "outputs": [
    {
     "name": "stdout",
     "output_type": "stream",
     "text": [
      "Diferencia entre estudiantes matriculados en 20191 y 20201 es 33 y la cantidad de desertores es 34\n"
     ]
    }
   ],
   "source": [
    "print('Diferencia entre estudiantes matriculados en 20191 y 20201 es', str(len(id_df20191)-len(id_df20201)) + ' y la cantidad de desertores es ' +  str(len(desertores)))"
   ]
  },
  {
   "cell_type": "code",
   "execution_count": 136,
   "metadata": {},
   "outputs": [],
   "source": [
    "fantasmas = []\n",
    "for i in range(len(id_df20201)):\n",
    "    if id_df20201[i] in id_df20191:\n",
    "        continue\n",
    "    else:\n",
    "        fantasmas.append(id_df20201[i])"
   ]
  },
  {
   "cell_type": "code",
   "execution_count": 137,
   "metadata": {},
   "outputs": [
    {
     "data": {
      "text/plain": [
       "['AJC-1388']"
      ]
     },
     "execution_count": 137,
     "metadata": {},
     "output_type": "execute_result"
    }
   ],
   "source": [
    "fantasmas"
   ]
  },
  {
   "cell_type": "code",
   "execution_count": 146,
   "metadata": {},
   "outputs": [],
   "source": [
    "desertores_reales = []\n",
    "for i in range(len(desertores)):\n",
    "    if desertores[i] in id_df20192:\n",
    "        continue\n",
    "    else:\n",
    "        desertores_reales.append(desertores[i])"
   ]
  },
  {
   "cell_type": "code",
   "execution_count": 148,
   "metadata": {},
   "outputs": [
    {
     "data": {
      "text/plain": [
       "34"
      ]
     },
     "execution_count": 148,
     "metadata": {},
     "output_type": "execute_result"
    }
   ],
   "source": [
    "len(desertores_reales)"
   ]
  },
  {
   "cell_type": "code",
   "execution_count": 149,
   "metadata": {},
   "outputs": [],
   "source": [
    "prueba = []\n",
    "for i in range(len(desertores)):\n",
    "    if desertores[i] in desertores_reales:\n",
    "        continue\n",
    "    else:\n",
    "        prueba.append(desertores[i])"
   ]
  },
  {
   "cell_type": "code",
   "execution_count": 151,
   "metadata": {},
   "outputs": [
    {
     "data": {
      "text/plain": [
       "['AJC-0010',\n",
       " 'AJC-0052',\n",
       " 'AJC-0096',\n",
       " 'AJC-0123',\n",
       " 'AJC-0129',\n",
       " 'AJC-0161',\n",
       " 'AJC-0233',\n",
       " 'AJC-0255',\n",
       " 'AJC-0435',\n",
       " 'AJC-0438',\n",
       " 'AJC-0479',\n",
       " 'AJC-0558',\n",
       " 'AJC-0739',\n",
       " 'AJC-0902',\n",
       " 'AJC-0921',\n",
       " 'AJC-0934',\n",
       " 'AJC-0968',\n",
       " 'AJC-0989',\n",
       " 'AJC-0996',\n",
       " 'AJC-1051',\n",
       " 'AJC-1060',\n",
       " 'AJC-1100',\n",
       " 'AJC-1104',\n",
       " 'AJC-1118',\n",
       " 'AJC-1202',\n",
       " 'AJC-1220',\n",
       " 'AJC-1225',\n",
       " 'AJC-1239',\n",
       " 'AJC-1255',\n",
       " 'AJC-1258',\n",
       " 'AJC-1264',\n",
       " 'AJC-1280',\n",
       " 'AJC-1315',\n",
       " 'AJC-1322']"
      ]
     },
     "execution_count": 151,
     "metadata": {},
     "output_type": "execute_result"
    }
   ],
   "source": [
    "desertores_reales"
   ]
  },
  {
   "cell_type": "code",
   "execution_count": 152,
   "metadata": {},
   "outputs": [
    {
     "data": {
      "text/plain": [
       "['AJC-0010',\n",
       " 'AJC-0052',\n",
       " 'AJC-0096',\n",
       " 'AJC-0123',\n",
       " 'AJC-0129',\n",
       " 'AJC-0161',\n",
       " 'AJC-0233',\n",
       " 'AJC-0255',\n",
       " 'AJC-0435',\n",
       " 'AJC-0438',\n",
       " 'AJC-0479',\n",
       " 'AJC-0558',\n",
       " 'AJC-0739',\n",
       " 'AJC-0902',\n",
       " 'AJC-0921',\n",
       " 'AJC-0934',\n",
       " 'AJC-0968',\n",
       " 'AJC-0989',\n",
       " 'AJC-0996',\n",
       " 'AJC-1051',\n",
       " 'AJC-1060',\n",
       " 'AJC-1100',\n",
       " 'AJC-1104',\n",
       " 'AJC-1118',\n",
       " 'AJC-1202',\n",
       " 'AJC-1220',\n",
       " 'AJC-1225',\n",
       " 'AJC-1239',\n",
       " 'AJC-1255',\n",
       " 'AJC-1258',\n",
       " 'AJC-1264',\n",
       " 'AJC-1280',\n",
       " 'AJC-1315',\n",
       " 'AJC-1322']"
      ]
     },
     "execution_count": 152,
     "metadata": {},
     "output_type": "execute_result"
    }
   ],
   "source": [
    "desertores"
   ]
  },
  {
   "cell_type": "code",
   "execution_count": null,
   "metadata": {},
   "outputs": [],
   "source": []
  }
 ],
 "metadata": {
  "kernelspec": {
   "display_name": "Python 3",
   "language": "python",
   "name": "python3"
  },
  "language_info": {
   "codemirror_mode": {
    "name": "ipython",
    "version": 3
   },
   "file_extension": ".py",
   "mimetype": "text/x-python",
   "name": "python",
   "nbconvert_exporter": "python",
   "pygments_lexer": "ipython3",
   "version": "3.8.3"
  }
 },
 "nbformat": 4,
 "nbformat_minor": 4
}
