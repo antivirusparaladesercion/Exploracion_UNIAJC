{
 "cells": [
  {
   "cell_type": "markdown",
   "metadata": {},
   "source": [
    "# Analisis Exploratorio - Datos UNIAJC\n",
    "\n",
    "Fuentes de datos analizadas\n",
    "\n",
    "* DatosI\n",
    "* DatosII\n",
    "* DatosIII"
   ]
  },
  {
   "cell_type": "markdown",
   "metadata": {},
   "source": [
    "## Preparación entorno"
   ]
  },
  {
   "cell_type": "code",
   "execution_count": 3,
   "metadata": {},
   "outputs": [],
   "source": [
    "#Importación librerias a implementar\n",
    "import pandas as pd"
   ]
  },
  {
   "cell_type": "code",
   "execution_count": 4,
   "metadata": {},
   "outputs": [],
   "source": [
    "#Class para dar forma a los print\n",
    "class color:\n",
    "   PURPLE = '\\033[95m'\n",
    "   CYAN = '\\033[96m'\n",
    "   DARKCYAN = '\\033[36m'\n",
    "   BLUE = '\\033[94m'\n",
    "   GREEN = '\\033[92m'\n",
    "   YELLOW = '\\033[93m'\n",
    "   RED = '\\033[91m'\n",
    "   BOLD = '\\033[1m'\n",
    "   UNDERLINE = '\\033[4m'\n",
    "   END = '\\033[0m'"
   ]
  },
  {
   "cell_type": "code",
   "execution_count": 5,
   "metadata": {},
   "outputs": [],
   "source": [
    "\"\"\" Función para calcular la edad\n",
    "calcular_edad(fecha de nacimiento):\n",
    "return edad\"\"\"\n",
    "\n",
    "def calcular_edad(fecha_nacimiento):\n",
    "    from datetime import date\n",
    "    hoy = date.today()\n",
    "    edad = int(hoy.year - fecha_nacimiento.year)\n",
    "    \n",
    "    return edad"
   ]
  },
  {
   "cell_type": "markdown",
   "metadata": {},
   "source": [
    "## Conexión fuentes de datos\n",
    "\n",
    "Iniciamos con la conexión a la base de datos de estudiantes de la Universiad Antonio Jose Camacho, que se encuentra en un único archivo de excel"
   ]
  },
  {
   "cell_type": "code",
   "execution_count": null,
   "metadata": {},
   "outputs": [],
   "source": [
    "#Se establece el archivo xlsx a cargar, luego de haber sido unificado\n",
    "camacho = pd.ExcelFile('CamachoUnido_limpiov1.xlsx')"
   ]
  },
  {
   "cell_type": "code",
   "execution_count": null,
   "metadata": {},
   "outputs": [],
   "source": [
    "#Se carga cada uno de las hojas del excel, las cuales representan semestres diferentes\n",
    "df_20191 = pd.read_excel(camacho,'DatosI_Sistemas')\n",
    "df_20192 = pd.read_excel(camacho,'DatosII_Sistemas')\n",
    "df_20201 = pd.read_excel(camacho,'DatosIII_Sistemas')"
   ]
  },
  {
   "cell_type": "markdown",
   "metadata": {},
   "source": [
    "### DatosI - 20191\n",
    "Exploramos el conjunto de datos de los estudiantes matriculados en el semestre 20191 en el programa de Ingeniería de Sistemas (no se incluye homologación)"
   ]
  },
  {
   "cell_type": "code",
   "execution_count": null,
   "metadata": {},
   "outputs": [],
   "source": [
    "#Se conocen los tipos de dato de cada variable\n",
    "df_20191.info()"
   ]
  },
  {
   "cell_type": "code",
   "execution_count": null,
   "metadata": {},
   "outputs": [],
   "source": [
    "#Se conocen valores faltantes por columna\n",
    "print('Valores faltantes en cada columna', df_20191.isnull().sum())"
   ]
  },
  {
   "cell_type": "markdown",
   "metadata": {},
   "source": [
    "Se obtienes algunos números importantes del dataset, para conocerlo mejor"
   ]
  },
  {
   "cell_type": "code",
   "execution_count": null,
   "metadata": {},
   "outputs": [],
   "source": [
    "#Cantidad de estudiantes únicos\n",
    "id_df20191 = df_20191['ID']\n",
    "id_df20191 = id_df20191.drop_duplicates()\n",
    "print(color.BOLD +'Cantidad de estudiantes en 20191: '+ color.END,id_df20191.count())"
   ]
  },
  {
   "cell_type": "code",
   "execution_count": null,
   "metadata": {},
   "outputs": [],
   "source": [
    "#cantidad de estudiantes sin estrato\n",
    "mask_estrato = df_20191.ESTRATO.isnull()\n",
    "id_df20191_sin_estrato = df_20191[mask_estrato]['ID']\n",
    "id_df20191_sin_estrato = id_df20191_sin_estrato.drop_duplicates()\n",
    "print(color.BOLD +'Cantidad de estudiantes sin estrato definido: '+ color.END,id_df20191_sin_estrato.count())\n",
    "print(color.BOLD +'ID estudiantes sin estrato definido: \\n'+ color.END,id_df20191_sin_estrato)"
   ]
  },
  {
   "cell_type": "code",
   "execution_count": null,
   "metadata": {},
   "outputs": [],
   "source": [
    "#cantidad de estudiantes sin país de nacimiento, departamento de nacimiento y municipio de nacimiento\n",
    "mask_lugar_nacimiento = df_20191.PAIS_NACIMIENTO.isnull()\n",
    "id_df20191_sin_lugar_nacimiento = df_20191[mask_lugar_nacimiento]['ID']\n",
    "id_df20191_sin_lugar_nacimiento = id_df20191_sin_lugar_nacimiento.drop_duplicates()\n",
    "print(color.BOLD +'ID estudiantes sin lugar de nacimiento definido: \\n'+ color.END,id_df20191_sin_lugar_nacimiento)\n",
    "print(color.BOLD +'Cantidad de estudiantes sin lugar de nacimiento: '+ color.END,id_df20191_sin_lugar_nacimiento.count())"
   ]
  },
  {
   "cell_type": "code",
   "execution_count": null,
   "metadata": {},
   "outputs": [],
   "source": [
    "#cantidad de estudiantes sin país de nacimiento, departamento de nacimiento y municipio de nacimiento\n",
    "mask_lugar_residencia = df_20191.PAIS_RESIDENCIA.isnull()\n",
    "id_df20191_sin_lugar_residencia = df_20191[mask_lugar_residencia]['ID']\n",
    "id_df20191_sin_lugar_residencia = id_df20191_sin_lugar_residencia.drop_duplicates()\n",
    "print(color.BOLD +'ID estudiantes sin lugar de residencia definido: \\n'+ color.END,id_df20191_sin_lugar_residencia)\n",
    "print(color.BOLD +'Cantidad de estudiantes sin lugar de residencia: '+ color.END,id_df20191_sin_lugar_nacimiento.count())\n",
    "  "
   ]
  },
  {
   "cell_type": "code",
   "execution_count": null,
   "metadata": {},
   "outputs": [],
   "source": [
    "#faltantes_20191 = {'Estrato': id_df20191_sin_estrato.values.tolist(),'Lugar Nacimiento': id_df20191_sin_lugar_nacimiento.values.tolist()}\n",
    "#print(faltantes_20191)"
   ]
  },
  {
   "cell_type": "markdown",
   "metadata": {},
   "source": [
    "### Tratamiento de valores faltantes"
   ]
  },
  {
   "cell_type": "code",
   "execution_count": null,
   "metadata": {},
   "outputs": [],
   "source": [
    "#En el Dataset en las columnas COLEGIO y COLEGIO2 tienen distribuido el nombre del colegio donde los estudiantes cursaron su educación básica secundaria\n",
    "#Se rellenan los null de la columna Colegio por el valor en Colegio2\n",
    "colegio = df_20191.loc[:,['ID','COLEGIO','COLEGIO2']]\n",
    "for i in range(colegio.shape[0]):\n",
    "    if colegio.COLEGIO[i] == 'Sin Definir':\n",
    "        colegio.COLEGIO[i] = colegio.COLEGIO2[i]\n",
    "colegio = colegio.drop(columns = 'COLEGIO2').drop_duplicates()\n",
    "#colegio = colegio.drop_duplicates()"
   ]
  },
  {
   "cell_type": "code",
   "execution_count": null,
   "metadata": {},
   "outputs": [],
   "source": [
    "#Se transforma la variable de categórica a numérica\n",
    "colegio_dummies = colegio\n",
    "colegio_dummies['COLEGIO'] = pd.get_dummies(colegio.COLEGIO)"
   ]
  },
  {
   "cell_type": "code",
   "execution_count": null,
   "metadata": {},
   "outputs": [],
   "source": [
    "#Se unifican los métodos de pago\n",
    "\"\"\"\"metodo_pago = df_20191.loc[:,['ID','FINAN ICETEX','FINAN BANCARIA','PAGO DIRECTO']]\n",
    "metodo_pago = metodo_pago.drop_duplicates()\n",
    "metodo_pago = metodo_pago.fillna('Otro')\n",
    "\n",
    "for i in range(metodo_pago.shape[0]):\n",
    "    if metodo_pago.loc[i,'FINAN ICETEX'] == 'Otro':\n",
    "        if metodo_pago.loc[i,'FINAN BANCARIA'] == 'Otro':\n",
    "            metodo_pago.loc[i,'METODO_PAGO'] = 'PAGO DIRECTO'\n",
    "        else:\n",
    "            metodo_pago.loc[i,'METODO_PAGO'] = 'FINAN BANCARIA'\n",
    "    else:\n",
    "        metodo_pago.loc[i,'METODO_PAGO'] = 'FINAN ICETEX'\n",
    "metodo_pago = metodo_pago.drop(columns = ['FINAN ICETEX','FINAN BANCARIA','PAGO DIRECTO']).drop_duplicates()\n",
    "\n",
    "\n",
    "#Verificación que no hayan valores nulos en metodo_pago\n",
    "metodo_pago.isnull().sum()\"\"\""
   ]
  },
  {
   "cell_type": "code",
   "execution_count": null,
   "metadata": {},
   "outputs": [],
   "source": [
    "#Calculo el cantidad de materias\n",
    "cant_materia = pd.DataFrame(columns=['ID','COD_MATERIA'])\n",
    "row = 0\n",
    "for i in id_df20191:\n",
    "    mask = df_20191['ID'] == i\n",
    "    cant_materia.loc[row,'ID'] = i\n",
    "    cant_materia.loc[row,'CANT_MATERIAS'] = len(df_20191[mask]['COD_MATERIA'].unique())\n",
    "    row = row +1\n",
    "cant_materia = cant_materia.drop(columns = ['COD_MATERIA'])"
   ]
  },
  {
   "cell_type": "code",
   "execution_count": null,
   "metadata": {},
   "outputs": [],
   "source": [
    "#Se verifica que el cálculo se haya realizado correctamente\n",
    "cant_materia"
   ]
  },
  {
   "cell_type": "code",
   "execution_count": null,
   "metadata": {},
   "outputs": [],
   "source": [
    "#Calculo de edad de cada estudiante\n",
    "df_edad = df_20191.loc[:,['ID','FECHA_NACIMIENTO']]\n",
    "df_edad = df_edad.drop_duplicates()\n",
    "edades = pd.DataFrame(columns = ['ID','EDAD'])\n",
    "row = 0\n",
    "for i in df_edad['FECHA_NACIMIENTO']:\n",
    "    edades.loc[row,'EDAD'] = int(calcular_edad(i))\n",
    "    row = row + 1\n",
    "row = 0    \n",
    "for i in df_edad['ID']:\n",
    "    edades.loc[row,'ID'] = i\n",
    "    row = row + 1"
   ]
  },
  {
   "cell_type": "code",
   "execution_count": null,
   "metadata": {},
   "outputs": [],
   "source": [
    "#Calculo de edad de cada estudiante\n",
    "estrato = df_20191.loc[:,['ID','ESTRATO']].drop_duplicates().fillna(0)"
   ]
  },
  {
   "cell_type": "code",
   "execution_count": null,
   "metadata": {},
   "outputs": [],
   "source": [
    "genero = df_20191.loc[:,['ID','GENERO']].drop_duplicates()\n",
    "genero_dummies = pd.get_dummies(genero.GENERO)"
   ]
  },
  {
   "cell_type": "code",
   "execution_count": null,
   "metadata": {},
   "outputs": [],
   "source": [
    "#Se eliminan columnas que no se utilizarán en la primera versión del análisis, los días de la semana donde se recibia clase. Ni fechas de ejecución de los pagos\n",
    "df_20191 = df_20191.drop(columns=['GENERO','ESTADO_CIVIL','PAIS_NACIMIENTO','DPTO_NACIMIENTO','CIUDAD_NACIMIENTO','DPTO_RESIDENCIA','CIUDAD_GENERAL','BARRIO','ESTRATO','DIRECCION','PAIS_RESIDENCIA','FECHA_NACIMIENTO','LUNES','MARTES','MIERCOLES','JUEVES','VIERNES','SABADO','DOMINGO','COLEGIO','COLEGIO2','COD_PROG','PROGRAMA','MATERIA','COD_MATERIA','GRUPO','EVAC_ID','EVALUACION','CALF_PARCIAL','FECHA_MATRICULA','FECHA DE PAGO','SNP','DOCENTE','ESTADO','PER_ADMISION','REAC_TIPO','GRUP_ID','FINAN ICETEX','FINAN BANCARIA','PAGO DIRECTO']).drop_duplicates()\n"
   ]
  },
  {
   "cell_type": "markdown",
   "metadata": {},
   "source": [
    "### Etiqueta de desertor\n",
    "Para categorizar a un estudiante como desertor aplicaremos el criterio utilizado por el Ministerio de educación, esto es, un estudiante con dos semestres sin matricularse en el programa académico.\n",
    "\n",
    "Para ello compararemos los ID únicos del semestre 20191 con los del 20201, estos serán estudiantes candidatos a desertores, los cuales verificaremos si tampoco estuvo activo en el semestre inmediatamente anterior, 20192. De cumplirse la ausencia en el semestre 20201 y 20192 este estudiante será considerado Desertor"
   ]
  },
  {
   "cell_type": "code",
   "execution_count": null,
   "metadata": {},
   "outputs": [],
   "source": [
    "#ID 20192\n",
    "print(color.BOLD + '  ID 20192' + color.END)\n",
    "print(df_20192['ID'].value_counts())\n",
    "id_df20192 = df_20192['ID']\n",
    "id_df20192 = id_df20192.drop_duplicates()\n",
    "id_df20191 = id_df20191.values\n",
    "id_df20191 = id_df20191.tolist()\n",
    "id_df20192 = id_df20192.values\n",
    "id_df20192 = id_df20192.tolist()"
   ]
  },
  {
   "cell_type": "code",
   "execution_count": null,
   "metadata": {},
   "outputs": [],
   "source": [
    "#ID 20201\n",
    "print(color.BOLD + '  ID 20201' + color.END)\n",
    "print(df_20201['ID'].value_counts())\n",
    "id_df20201 = df_20201['ID']\n",
    "id_df20201 = id_df20201.drop_duplicates()\n",
    "id_df20201 = id_df20201.values\n",
    "id_df20201 = id_df20201.tolist()"
   ]
  },
  {
   "cell_type": "code",
   "execution_count": null,
   "metadata": {},
   "outputs": [],
   "source": [
    "candidatos_desertores = []\n",
    "for i in range(len(id_df20191)):\n",
    "    if id_df20191[i] in id_df20201:\n",
    "        continue\n",
    "    else:\n",
    "        candidatos_desertores.append(id_df20191[i])"
   ]
  },
  {
   "cell_type": "code",
   "execution_count": null,
   "metadata": {},
   "outputs": [],
   "source": [
    "print(f\"Estudiantes candidatos a desertores: {len(candidatos_desertores)}\\n\",candidatos_desertores)"
   ]
  },
  {
   "cell_type": "code",
   "execution_count": null,
   "metadata": {},
   "outputs": [],
   "source": [
    "desertores_reales = []\n",
    "for i in range(len(candidatos_desertores)):\n",
    "    if candidatos_desertores[i] in id_df20192:\n",
    "        continue\n",
    "    else:\n",
    "        desertores_reales.append(candidatos_desertores[i])"
   ]
  },
  {
   "cell_type": "code",
   "execution_count": null,
   "metadata": {},
   "outputs": [],
   "source": [
    "print(f\"Estudiantes desertores: {len(desertores_reales)} \\n\",desertores_reales)"
   ]
  },
  {
   "cell_type": "code",
   "execution_count": null,
   "metadata": {},
   "outputs": [],
   "source": [
    "#Se añade el estado académico al dataset para cada ID de estudiante\n",
    "estado_academico = pd.DataFrame(columns=['ID','ESTADO'])\n",
    "row = 0\n",
    "for i in id_df20191:\n",
    "    if i in desertores_reales:\n",
    "        estado_academico.loc[row,'ESTADO'] = 'Desertor'\n",
    "    else:\n",
    "        estado_academico.loc[row,'ESTADO'] = 'Activo'\n",
    "    estado_academico.loc[row,'ID'] = i\n",
    "    row = row + 1"
   ]
  },
  {
   "cell_type": "code",
   "execution_count": null,
   "metadata": {},
   "outputs": [],
   "source": [
    "#Se verifica que se haya realizado el proceso\n",
    "estado_academico"
   ]
  },
  {
   "cell_type": "code",
   "execution_count": null,
   "metadata": {},
   "outputs": [],
   "source": [
    "#Se transforma la variable de categórica a numérica\n",
    "estado_academico_dummies = pd.get_dummies(estado_academico.ESTADO)"
   ]
  },
  {
   "cell_type": "markdown",
   "metadata": {},
   "source": [
    "## Formando Dataset1 - Entrenamiento\n",
    "\n",
    "Se unifican las variables que han sido transformadas de categóricas a numéricas en un único dataset"
   ]
  },
  {
   "cell_type": "code",
   "execution_count": null,
   "metadata": {},
   "outputs": [],
   "source": [
    "\"\"\"\"df_20191['COLEGIO'] = colegio['COLEGIO']\n",
    "df_20191['CANT_MATERIAS'] = cant_materia['CANT_MATERIAS']\n",
    "df_20191['METODO_PADO'] = metodo_pago['METODO_PAGO']\n",
    "df_20191['ESTADO'] = estado_academico['ESTADO']\n",
    "df_20191['EDAD'] = edades['EDAD']\"\"\""
   ]
  },
  {
   "cell_type": "code",
   "execution_count": null,
   "metadata": {},
   "outputs": [],
   "source": [
    "#final = pd.merge(df_20191,genero_dummies, on = 'ID')\n",
    "final = pd.merge(df_20191,cant_materia, on = 'ID')\n",
    "final = pd.merge(final, edades,on = 'ID')\n",
    "#final = pd.merge(final, estado_academico_dummies,on = 'ID')\n"
   ]
  },
  {
   "cell_type": "code",
   "execution_count": null,
   "metadata": {},
   "outputs": [],
   "source": [
    "genero_dummies.reset_index(drop=True, inplace=True)\n",
    "estado_academico_dummies.reset_index(drop=True, inplace=True)\n",
    "final.reset_index(drop=True, inplace=True)\n"
   ]
  },
  {
   "cell_type": "code",
   "execution_count": null,
   "metadata": {},
   "outputs": [],
   "source": [
    "final_csv = pd.concat([final,genero_dummies,estado_academico_dummies],axis=1)"
   ]
  },
  {
   "cell_type": "code",
   "execution_count": null,
   "metadata": {},
   "outputs": [],
   "source": [
    "final_csv.isnull().sum()"
   ]
  },
  {
   "cell_type": "code",
   "execution_count": null,
   "metadata": {},
   "outputs": [],
   "source": [
    "final_csv.to_csv('final_normalizado.csv')"
   ]
  }
 ],
 "metadata": {
  "kernelspec": {
   "display_name": "Python 3",
   "language": "python",
   "name": "python3"
  },
  "language_info": {
   "codemirror_mode": {
    "name": "ipython",
    "version": 3
   },
   "file_extension": ".py",
   "mimetype": "text/x-python",
   "name": "python",
   "nbconvert_exporter": "python",
   "pygments_lexer": "ipython3",
   "version": "3.8.3"
  }
 },
 "nbformat": 4,
 "nbformat_minor": 4
}
